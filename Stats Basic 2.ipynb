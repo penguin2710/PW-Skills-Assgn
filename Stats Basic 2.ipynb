{
 "cells": [
  {
   "cell_type": "markdown",
   "metadata": {},
   "source": [
    "Ans 1\n",
    "\n",
    "1. Mean\n",
    "2. Median\n",
    "3. Mode"
   ]
  },
  {
   "cell_type": "markdown",
   "metadata": {},
   "source": [
    "Ans 2\n",
    "\n",
    "The mean, median, and mode are measures of central tendency used to describe the typical or central value of a dataset. The mean is the average obtained by summing all values and dividing by the number of observations. It is sensitive to extreme values and provides a representative value of the entire dataset. The median is the middle value when the data is ordered, and it is less affected by outliers. It represents the value that divides the dataset into two equal halves. The mode is the most frequently occurring value in the dataset. It highlights the most common value or values. These measures complement each other and provide different perspectives on the central tendency, allowing for a more comprehensive understanding of the dataset."
   ]
  },
  {
   "cell_type": "code",
   "execution_count": 7,
   "metadata": {},
   "outputs": [
    {
     "name": "stdout",
     "output_type": "stream",
     "text": [
      "Mean: 177.01875\n",
      "Mode: 177.0\n",
      "Median:177.0\n"
     ]
    }
   ],
   "source": [
    "#Ans 3\n",
    "import numpy as np\n",
    "from scipy import stats\n",
    "data = [178,177,176,177,178.2,178,175,179,180,175,178.9,176.2,177,172.5,178,176.5]\n",
    "mean1 = np.mean(data)\n",
    "median1 = np.median(data)\n",
    "mode1 = stats.mode(data)\n",
    "\n",
    "print(f'Mean: {mean1}\\nMode: {mode1[0]}\\nMedian:{median1}')"
   ]
  },
  {
   "cell_type": "code",
   "execution_count": 8,
   "metadata": {},
   "outputs": [
    {
     "name": "stdout",
     "output_type": "stream",
     "text": [
      "1.7885814036548633\n"
     ]
    }
   ],
   "source": [
    "#Ans 4\n",
    "\n",
    "data = [178,177,176,177,178.2,178,175,179,180,175,178.9,176.2,177,172.5,178,176.5]\n",
    "print(np.std(data))"
   ]
  },
  {
   "cell_type": "markdown",
   "metadata": {},
   "source": [
    "Ans 5\n",
    "\n",
    "Measures of dispersion, such as range, variance, and standard deviation, are used to quantify and describe the spread or variability within a dataset.\n",
    "\n",
    "The range is the simplest measure and represents the difference between the maximum and minimum values. It provides a basic understanding of the dataset's spread but is sensitive to outliers.\n",
    "\n",
    "Variance measures the average squared deviation of each data point from the mean. It provides a measure of the overall variability within the dataset.\n",
    "\n",
    "Standard deviation is the square root of the variance and provides a more interpretable measure of spread. It is often preferred as it is in the same units as the original data.\n",
    "\n",
    "For example, consider two datasets of test scores. Dataset A has scores of 60, 65, 70, 75, and 80, while Dataset B has scores of 50, 60, 70, 80, and 90. Both datasets have the same range of 20. However, Dataset B has a higher variance and standard deviation, indicating a larger spread or variability in the scores compared to Dataset A."
   ]
  },
  {
   "cell_type": "markdown",
   "metadata": {},
   "source": [
    "Ans 6\n",
    "\n",
    "A Venn diagram is a graphical representation that uses overlapping circles or other shapes to visually display the relationships between different sets or groups of items. The circles in the diagram represent sets, and the overlapping areas represent the intersections or common elements between the sets."
   ]
  },
  {
   "cell_type": "code",
   "execution_count": 11,
   "metadata": {},
   "outputs": [
    {
     "name": "stdout",
     "output_type": "stream",
     "text": [
      "Intersection:  {2, 6}\n",
      "Union:  {0, 2, 3, 4, 5, 6, 7, 8, 10}\n"
     ]
    }
   ],
   "source": [
    "#Ans 7\n",
    "\n",
    "A = {2, 3, 4, 5, 6, 7}\n",
    "B = {0, 2, 6, 8, 10}\n",
    "\n",
    "intersection = A.intersection(B)\n",
    "print('Intersection: ', intersection)\n",
    "union = A.union(B)\n",
    "print('Union: ', union)"
   ]
  },
  {
   "cell_type": "markdown",
   "metadata": {},
   "source": [
    "Ans 8 \n",
    "\n",
    "Skewness is a statistical measure that indicates the asymmetry or lack of symmetry in the distribution of a dataset. It quantifies the extent to which the data deviates from a symmetrical or bell-shaped distribution.\n",
    "\n",
    "A dataset can exhibit three types of skewness:\n",
    "\n",
    "1. Positive skewness: Also known as right skewness, it occurs when the tail of the distribution extends towards the higher values. In a positively skewed distribution, the majority of the data points are concentrated towards the lower values, while the tail extends to the right.\n",
    "\n",
    "2. Negative skewness: Also known as left skewness, it occurs when the tail of the distribution extends towards the lower values. In a negatively skewed distribution, the majority of the data points are concentrated towards the higher values, while the tail extends to the left.\n",
    "\n",
    "3. Zero skewness: A distribution is considered to have zero skewness when it is perfectly symmetrical, with equal concentration of data points on both sides of the central tendency.\n",
    "\n",
    "Skewness is an important measure as it provides insights into the shape and characteristics of the dataset. Understanding skewness helps in selecting appropriate statistical techniques and interpreting the data accurately."
   ]
  },
  {
   "cell_type": "markdown",
   "metadata": {},
   "source": [
    "Ans 9\n",
    "\n",
    "Mean will be greater than median for right skewness, hence mean will be towards the right of median"
   ]
  },
  {
   "cell_type": "markdown",
   "metadata": {},
   "source": [
    "Ans 10\n",
    "\n",
    "Covariance and correlation are both measures of the relationship between two variables, but they differ in terms of scale and interpretation. \n",
    "\n",
    "Covariance measures the direction and magnitude of the linear relationship between variables. It is sensitive to the scale of the variables, making it difficult to compare covariances between different pairs of variables.\n",
    "\n",
    "Correlation, on the other hand, is a standardized measure of the linear relationship between variables. It ranges from -1 to +1, providing a more interpretable measure of strength and direction. Correlation is scale-invariant and allows for meaningful comparisons between different pairs of variables.\n",
    "\n",
    "Both covariance and correlation are used in statistical analysis to understand the relationship between variables, identify patterns, and assess the strength of associations. They are particularly useful in regression analysis, portfolio management, and various fields where relationships between variables need to be measured and analyzed."
   ]
  },
  {
   "cell_type": "markdown",
   "metadata": {},
   "source": [
    "Ans 11\n",
    "\n",
    "The formula for calculating the sample mean (also known as the average) is as follows:\n",
    "\n",
    "Sample Mean (x̄) = (Sum of all data points) / (Number of data points)\n",
    "\n",
    "To calculate the sample mean, sum up all the data points in the dataset and then divide the sum by the total number of data points.\n",
    "\n",
    "Here's an example calculation for a dataset:\n",
    "\n",
    "Consider the dataset: {10, 15, 20, 25, 30}\n",
    "\n",
    "To calculate the sample mean:\n",
    "\n",
    "Step 1: Add up all the data points: 10 + 15 + 20 + 25 + 30 = 100\n",
    "Step 2: Divide the sum by the number of data points (which is 5): 100 / 5 = 20\n",
    "\n",
    "Therefore, the sample mean for this dataset is 20."
   ]
  },
  {
   "cell_type": "markdown",
   "metadata": {},
   "source": [
    "Ans 12\n",
    "\n",
    "For a normal Distribution data the mean=median=mode"
   ]
  },
  {
   "cell_type": "markdown",
   "metadata": {},
   "source": [
    "Ans 13\n",
    "\n",
    "Covariance measures the direction and magnitude of the linear relationship between variables. It is sensitive to the scale of the variables, making it difficult to compare covariances between different pairs of variables.\n",
    "\n",
    "Correlation, on the other hand, is a standardized measure of the linear relationship between variables. It ranges from -1 to +1, providing a more interpretable measure of strength and direction. Correlation is scale-invariant and allows for meaningful comparisons between different pairs of variables."
   ]
  },
  {
   "cell_type": "markdown",
   "metadata": {},
   "source": [
    "Ans 14\n",
    "\n",
    "Outliers can significantly impact measures of central tendency and dispersion in a dataset. \n",
    "\n",
    "Measures of central tendency, such as the mean and median, are sensitive to outliers. Outliers, being extreme values, can pull the mean towards their direction, resulting in an inaccurate representation of the typical value. The median, being less influenced by extreme values, is more robust in the presence of outliers and provides a better measure of the central tendency.\n",
    "\n",
    "Outliers also affect measures of dispersion, such as the range, variance, and standard deviation. The range, which is the difference between the maximum and minimum values, can be greatly influenced by outliers. Similarly, the variance and standard deviation, which rely on squared differences from the mean, can be inflated by outliers, leading to an overestimation of the spread of the data.\n",
    "\n",
    "For example, consider a dataset of exam scores: 75, 80, 85, 90, 95, and an outlier of 50. If we calculate the mean, it becomes 80.83. However, when the outlier is removed, the mean becomes 86.25, providing a more accurate representation of the typical score. Additionally, the presence of the outlier increases the range from 45 to 45.5, and it impacts the variance and standard deviation, resulting in larger values."
   ]
  }
 ],
 "metadata": {
  "kernelspec": {
   "display_name": "Python 3",
   "language": "python",
   "name": "python3"
  },
  "language_info": {
   "codemirror_mode": {
    "name": "ipython",
    "version": 3
   },
   "file_extension": ".py",
   "mimetype": "text/x-python",
   "name": "python",
   "nbconvert_exporter": "python",
   "pygments_lexer": "ipython3",
   "version": "3.11.3"
  },
  "orig_nbformat": 4
 },
 "nbformat": 4,
 "nbformat_minor": 2
}
