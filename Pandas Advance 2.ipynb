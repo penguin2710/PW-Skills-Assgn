{
 "cells": [
  {
   "cell_type": "code",
   "execution_count": 2,
   "id": "c15c3eff-ac4c-4e4f-a1c2-2de0f54a119c",
   "metadata": {},
   "outputs": [
    {
     "data": {
      "text/html": [
       "<div>\n",
       "<style scoped>\n",
       "    .dataframe tbody tr th:only-of-type {\n",
       "        vertical-align: middle;\n",
       "    }\n",
       "\n",
       "    .dataframe tbody tr th {\n",
       "        vertical-align: top;\n",
       "    }\n",
       "\n",
       "    .dataframe thead th {\n",
       "        text-align: right;\n",
       "    }\n",
       "</style>\n",
       "<table border=\"1\" class=\"dataframe\">\n",
       "  <thead>\n",
       "    <tr style=\"text-align: right;\">\n",
       "      <th></th>\n",
       "      <th>course_name</th>\n",
       "      <th>duration</th>\n",
       "    </tr>\n",
       "  </thead>\n",
       "  <tbody>\n",
       "    <tr>\n",
       "      <th>0</th>\n",
       "      <td>Data Science</td>\n",
       "      <td>2</td>\n",
       "    </tr>\n",
       "    <tr>\n",
       "      <th>1</th>\n",
       "      <td>Machine Learning</td>\n",
       "      <td>3</td>\n",
       "    </tr>\n",
       "    <tr>\n",
       "      <th>2</th>\n",
       "      <td>Big Data</td>\n",
       "      <td>6</td>\n",
       "    </tr>\n",
       "    <tr>\n",
       "      <th>3</th>\n",
       "      <td>Data Engineer</td>\n",
       "      <td>4</td>\n",
       "    </tr>\n",
       "  </tbody>\n",
       "</table>\n",
       "</div>"
      ],
      "text/plain": [
       "        course_name  duration\n",
       "0      Data Science         2\n",
       "1  Machine Learning         3\n",
       "2          Big Data         6\n",
       "3     Data Engineer         4"
      ]
     },
     "execution_count": 2,
     "metadata": {},
     "output_type": "execute_result"
    }
   ],
   "source": [
    "import pandas as pd\n",
    "course_name = ['Data Science', 'Machine Learning', 'Big Data', 'Data Engineer']\n",
    "duration = [2,3,6,4]\n",
    "df = pd.DataFrame(data = {'course_name' : course_name, 'duration' : duration})\n",
    "df"
   ]
  },
  {
   "cell_type": "code",
   "execution_count": 3,
   "id": "7a82b5ff-3127-4712-bd24-9022f1218097",
   "metadata": {},
   "outputs": [
    {
     "data": {
      "text/plain": [
       "course_name    Machine Learning\n",
       "duration                      3\n",
       "Name: 1, dtype: object"
      ]
     },
     "execution_count": 3,
     "metadata": {},
     "output_type": "execute_result"
    }
   ],
   "source": [
    "#Ans 1\n",
    "df.iloc[1]"
   ]
  },
  {
   "cell_type": "markdown",
   "id": "abd7e573-f03a-4d7f-b9a4-38a8fb75dcbe",
   "metadata": {},
   "source": [
    "Ans 2\n",
    "\n",
    "loc is primarily label-based and allows indexing and slicing using explicit labels of rows and columns. It accepts row and column labels or Boolean arrays, and the indexing is inclusive of both the start and end values.\n",
    "\n",
    "iloc is primarily integer-based and allows indexing and slicing using integer positions of rows and columns. It accepts integer-based indexing, and the indexing is exclusive of the end value."
   ]
  },
  {
   "cell_type": "code",
   "execution_count": 4,
   "id": "90dc7668-2cd0-4667-8075-43bb61650609",
   "metadata": {},
   "outputs": [
    {
     "data": {
      "text/html": [
       "<div>\n",
       "<style scoped>\n",
       "    .dataframe tbody tr th:only-of-type {\n",
       "        vertical-align: middle;\n",
       "    }\n",
       "\n",
       "    .dataframe tbody tr th {\n",
       "        vertical-align: top;\n",
       "    }\n",
       "\n",
       "    .dataframe thead th {\n",
       "        text-align: right;\n",
       "    }\n",
       "</style>\n",
       "<table border=\"1\" class=\"dataframe\">\n",
       "  <thead>\n",
       "    <tr style=\"text-align: right;\">\n",
       "      <th></th>\n",
       "      <th>course_name</th>\n",
       "      <th>duration</th>\n",
       "    </tr>\n",
       "  </thead>\n",
       "  <tbody>\n",
       "    <tr>\n",
       "      <th>3</th>\n",
       "      <td>Data Engineer</td>\n",
       "      <td>4</td>\n",
       "    </tr>\n",
       "    <tr>\n",
       "      <th>0</th>\n",
       "      <td>Data Science</td>\n",
       "      <td>2</td>\n",
       "    </tr>\n",
       "    <tr>\n",
       "      <th>1</th>\n",
       "      <td>Machine Learning</td>\n",
       "      <td>3</td>\n",
       "    </tr>\n",
       "    <tr>\n",
       "      <th>2</th>\n",
       "      <td>Big Data</td>\n",
       "      <td>6</td>\n",
       "    </tr>\n",
       "  </tbody>\n",
       "</table>\n",
       "</div>"
      ],
      "text/plain": [
       "        course_name  duration\n",
       "3     Data Engineer         4\n",
       "0      Data Science         2\n",
       "1  Machine Learning         3\n",
       "2          Big Data         6"
      ]
     },
     "execution_count": 4,
     "metadata": {},
     "output_type": "execute_result"
    }
   ],
   "source": [
    "#Ans 3\n",
    "new_df = df.reindex([3,0,1,2])\n",
    "new_df"
   ]
  },
  {
   "cell_type": "code",
   "execution_count": 5,
   "id": "6f1d2322-6d7f-49dc-9771-9eee19d32b23",
   "metadata": {},
   "outputs": [
    {
     "data": {
      "text/plain": [
       "course_name    Machine Learning\n",
       "duration                      3\n",
       "Name: 1, dtype: object"
      ]
     },
     "execution_count": 5,
     "metadata": {},
     "output_type": "execute_result"
    }
   ],
   "source": [
    "new_df.iloc[2]"
   ]
  },
  {
   "cell_type": "code",
   "execution_count": 6,
   "id": "04aec64c-b9e1-4968-96ed-05c8e903c3a9",
   "metadata": {},
   "outputs": [
    {
     "data": {
      "text/plain": [
       "course_name    Big Data\n",
       "duration              6\n",
       "Name: 2, dtype: object"
      ]
     },
     "execution_count": 6,
     "metadata": {},
     "output_type": "execute_result"
    }
   ],
   "source": [
    "new_df.loc[2]"
   ]
  },
  {
   "cell_type": "markdown",
   "id": "5f8cdf20-83d8-4dae-a6a6-5d2231642174",
   "metadata": {},
   "source": [
    "The difference in above output is because .loc locates the given value whereas .iloc locates the given index and return the respective values"
   ]
  },
  {
   "cell_type": "code",
   "execution_count": 7,
   "id": "e137a274-e82f-4880-94df-0d3e8f5833be",
   "metadata": {},
   "outputs": [
    {
     "data": {
      "text/html": [
       "<div>\n",
       "<style scoped>\n",
       "    .dataframe tbody tr th:only-of-type {\n",
       "        vertical-align: middle;\n",
       "    }\n",
       "\n",
       "    .dataframe tbody tr th {\n",
       "        vertical-align: top;\n",
       "    }\n",
       "\n",
       "    .dataframe thead th {\n",
       "        text-align: right;\n",
       "    }\n",
       "</style>\n",
       "<table border=\"1\" class=\"dataframe\">\n",
       "  <thead>\n",
       "    <tr style=\"text-align: right;\">\n",
       "      <th></th>\n",
       "      <th>column_1</th>\n",
       "      <th>column_2</th>\n",
       "      <th>column_3</th>\n",
       "      <th>column_4</th>\n",
       "      <th>column_5</th>\n",
       "      <th>column_6</th>\n",
       "    </tr>\n",
       "  </thead>\n",
       "  <tbody>\n",
       "    <tr>\n",
       "      <th>1</th>\n",
       "      <td>0.250016</td>\n",
       "      <td>0.427601</td>\n",
       "      <td>0.943086</td>\n",
       "      <td>0.823308</td>\n",
       "      <td>0.919097</td>\n",
       "      <td>0.628274</td>\n",
       "    </tr>\n",
       "    <tr>\n",
       "      <th>2</th>\n",
       "      <td>0.873230</td>\n",
       "      <td>0.110384</td>\n",
       "      <td>0.955094</td>\n",
       "      <td>0.849657</td>\n",
       "      <td>0.897117</td>\n",
       "      <td>0.381098</td>\n",
       "    </tr>\n",
       "    <tr>\n",
       "      <th>3</th>\n",
       "      <td>0.111577</td>\n",
       "      <td>0.597007</td>\n",
       "      <td>0.268462</td>\n",
       "      <td>0.262710</td>\n",
       "      <td>0.269777</td>\n",
       "      <td>0.816044</td>\n",
       "    </tr>\n",
       "    <tr>\n",
       "      <th>4</th>\n",
       "      <td>0.441473</td>\n",
       "      <td>0.052102</td>\n",
       "      <td>0.198716</td>\n",
       "      <td>0.522576</td>\n",
       "      <td>0.457105</td>\n",
       "      <td>0.526983</td>\n",
       "    </tr>\n",
       "    <tr>\n",
       "      <th>5</th>\n",
       "      <td>0.356511</td>\n",
       "      <td>0.036585</td>\n",
       "      <td>0.111424</td>\n",
       "      <td>0.140409</td>\n",
       "      <td>0.725210</td>\n",
       "      <td>0.167263</td>\n",
       "    </tr>\n",
       "    <tr>\n",
       "      <th>6</th>\n",
       "      <td>0.536803</td>\n",
       "      <td>0.683466</td>\n",
       "      <td>0.320268</td>\n",
       "      <td>0.908339</td>\n",
       "      <td>0.390633</td>\n",
       "      <td>0.519614</td>\n",
       "    </tr>\n",
       "  </tbody>\n",
       "</table>\n",
       "</div>"
      ],
      "text/plain": [
       "   column_1  column_2  column_3  column_4  column_5  column_6\n",
       "1  0.250016  0.427601  0.943086  0.823308  0.919097  0.628274\n",
       "2  0.873230  0.110384  0.955094  0.849657  0.897117  0.381098\n",
       "3  0.111577  0.597007  0.268462  0.262710  0.269777  0.816044\n",
       "4  0.441473  0.052102  0.198716  0.522576  0.457105  0.526983\n",
       "5  0.356511  0.036585  0.111424  0.140409  0.725210  0.167263\n",
       "6  0.536803  0.683466  0.320268  0.908339  0.390633  0.519614"
      ]
     },
     "execution_count": 7,
     "metadata": {},
     "output_type": "execute_result"
    }
   ],
   "source": [
    "import numpy as np\n",
    "columns = ['column_1', 'column_2', 'column_3', 'column_4', 'column_5', 'column_6']\n",
    "indices = [1,2,3,4,5,6]\n",
    "#Creating a dataframe:\n",
    "df1 = pd.DataFrame(np.random.rand(6,6), columns = columns, index = indices)\n",
    "df1"
   ]
  },
  {
   "cell_type": "code",
   "execution_count": 8,
   "id": "2414581e-9227-4adb-bea2-f22cdd3f808b",
   "metadata": {},
   "outputs": [
    {
     "name": "stdout",
     "output_type": "stream",
     "text": [
      "column_1 mean: 0.4282683307459108\n",
      "column_2 mean: 0.3178574699996182\n",
      "column_3 mean: 0.4661748853264512\n",
      "column_4 mean: 0.5844995859975766\n",
      "column_5 mean: 0.6098233575383626\n",
      "column_6 mean: 0.5065461242098005\n"
     ]
    }
   ],
   "source": [
    "#Ans 4(i)\n",
    "for column in df1.columns:\n",
    "    print(f'{column} mean:',df1.mean()[f'{column}'])"
   ]
  },
  {
   "cell_type": "code",
   "execution_count": 9,
   "id": "7cb0b0c5-7c21-4731-a6e6-8b44f0fd62bd",
   "metadata": {},
   "outputs": [
    {
     "data": {
      "text/plain": [
       "0.2885908584880121"
      ]
     },
     "execution_count": 9,
     "metadata": {},
     "output_type": "execute_result"
    }
   ],
   "source": [
    "#Ans 4(ii)\n",
    "df1.std()['column_2']"
   ]
  },
  {
   "cell_type": "code",
   "execution_count": 15,
   "id": "04368c7b-b183-4606-bbcf-0dd350757f1b",
   "metadata": {},
   "outputs": [
    {
     "data": {
      "text/html": [
       "<div>\n",
       "<style scoped>\n",
       "    .dataframe tbody tr th:only-of-type {\n",
       "        vertical-align: middle;\n",
       "    }\n",
       "\n",
       "    .dataframe tbody tr th {\n",
       "        vertical-align: top;\n",
       "    }\n",
       "\n",
       "    .dataframe thead th {\n",
       "        text-align: right;\n",
       "    }\n",
       "</style>\n",
       "<table border=\"1\" class=\"dataframe\">\n",
       "  <thead>\n",
       "    <tr style=\"text-align: right;\">\n",
       "      <th></th>\n",
       "      <th>column_1</th>\n",
       "      <th>column_2</th>\n",
       "      <th>column_3</th>\n",
       "      <th>column_4</th>\n",
       "      <th>column_5</th>\n",
       "      <th>column_6</th>\n",
       "    </tr>\n",
       "  </thead>\n",
       "  <tbody>\n",
       "    <tr>\n",
       "      <th>1</th>\n",
       "      <td>0.250016</td>\n",
       "      <td>0.427601</td>\n",
       "      <td>0.943086</td>\n",
       "      <td>0.823308</td>\n",
       "      <td>0.919097</td>\n",
       "      <td>0.628274</td>\n",
       "    </tr>\n",
       "    <tr>\n",
       "      <th>2</th>\n",
       "      <td>0.873230</td>\n",
       "      <td>Test string</td>\n",
       "      <td>0.955094</td>\n",
       "      <td>0.849657</td>\n",
       "      <td>0.897117</td>\n",
       "      <td>0.381098</td>\n",
       "    </tr>\n",
       "    <tr>\n",
       "      <th>3</th>\n",
       "      <td>0.111577</td>\n",
       "      <td>0.597007</td>\n",
       "      <td>0.268462</td>\n",
       "      <td>0.262710</td>\n",
       "      <td>0.269777</td>\n",
       "      <td>0.816044</td>\n",
       "    </tr>\n",
       "    <tr>\n",
       "      <th>4</th>\n",
       "      <td>0.441473</td>\n",
       "      <td>0.052102</td>\n",
       "      <td>0.198716</td>\n",
       "      <td>0.522576</td>\n",
       "      <td>0.457105</td>\n",
       "      <td>0.526983</td>\n",
       "    </tr>\n",
       "    <tr>\n",
       "      <th>5</th>\n",
       "      <td>0.356511</td>\n",
       "      <td>0.036585</td>\n",
       "      <td>0.111424</td>\n",
       "      <td>0.140409</td>\n",
       "      <td>0.725210</td>\n",
       "      <td>0.167263</td>\n",
       "    </tr>\n",
       "    <tr>\n",
       "      <th>6</th>\n",
       "      <td>0.536803</td>\n",
       "      <td>0.683466</td>\n",
       "      <td>0.320268</td>\n",
       "      <td>0.908339</td>\n",
       "      <td>0.390633</td>\n",
       "      <td>0.519614</td>\n",
       "    </tr>\n",
       "  </tbody>\n",
       "</table>\n",
       "</div>"
      ],
      "text/plain": [
       "   column_1     column_2  column_3  column_4  column_5  column_6\n",
       "1  0.250016     0.427601  0.943086  0.823308  0.919097  0.628274\n",
       "2  0.873230  Test string  0.955094  0.849657  0.897117  0.381098\n",
       "3  0.111577     0.597007  0.268462  0.262710  0.269777  0.816044\n",
       "4  0.441473     0.052102  0.198716  0.522576  0.457105  0.526983\n",
       "5  0.356511     0.036585  0.111424  0.140409  0.725210  0.167263\n",
       "6  0.536803     0.683466  0.320268  0.908339  0.390633  0.519614"
      ]
     },
     "execution_count": 15,
     "metadata": {},
     "output_type": "execute_result"
    }
   ],
   "source": [
    "#Ans 5\n",
    "\n",
    "df1.loc[2,'column_2'] = 'Test string'"
   ]
  },
  {
   "cell_type": "code",
   "execution_count": 18,
   "id": "45301ff3-0faf-41e5-9c41-e810efae5f02",
   "metadata": {},
   "outputs": [
    {
     "name": "stderr",
     "output_type": "stream",
     "text": [
      "/tmp/ipykernel_70/4233452750.py:1: FutureWarning: The default value of numeric_only in DataFrame.mean is deprecated. In a future version, it will default to False. In addition, specifying 'numeric_only=None' is deprecated. Select only valid columns or specify the value of numeric_only to silence this warning.\n",
      "  df1.mean()['column_2']\n"
     ]
    },
    {
     "ename": "KeyError",
     "evalue": "'column_2'",
     "output_type": "error",
     "traceback": [
      "\u001b[0;31m---------------------------------------------------------------------------\u001b[0m",
      "\u001b[0;31mKeyError\u001b[0m                                  Traceback (most recent call last)",
      "File \u001b[0;32m/opt/conda/lib/python3.10/site-packages/pandas/core/indexes/base.py:3803\u001b[0m, in \u001b[0;36mIndex.get_loc\u001b[0;34m(self, key, method, tolerance)\u001b[0m\n\u001b[1;32m   3802\u001b[0m \u001b[38;5;28;01mtry\u001b[39;00m:\n\u001b[0;32m-> 3803\u001b[0m     \u001b[38;5;28;01mreturn\u001b[39;00m \u001b[38;5;28;43mself\u001b[39;49m\u001b[38;5;241;43m.\u001b[39;49m\u001b[43m_engine\u001b[49m\u001b[38;5;241;43m.\u001b[39;49m\u001b[43mget_loc\u001b[49m\u001b[43m(\u001b[49m\u001b[43mcasted_key\u001b[49m\u001b[43m)\u001b[49m\n\u001b[1;32m   3804\u001b[0m \u001b[38;5;28;01mexcept\u001b[39;00m \u001b[38;5;167;01mKeyError\u001b[39;00m \u001b[38;5;28;01mas\u001b[39;00m err:\n",
      "File \u001b[0;32m/opt/conda/lib/python3.10/site-packages/pandas/_libs/index.pyx:138\u001b[0m, in \u001b[0;36mpandas._libs.index.IndexEngine.get_loc\u001b[0;34m()\u001b[0m\n",
      "File \u001b[0;32m/opt/conda/lib/python3.10/site-packages/pandas/_libs/index.pyx:165\u001b[0m, in \u001b[0;36mpandas._libs.index.IndexEngine.get_loc\u001b[0;34m()\u001b[0m\n",
      "File \u001b[0;32mpandas/_libs/hashtable_class_helper.pxi:5745\u001b[0m, in \u001b[0;36mpandas._libs.hashtable.PyObjectHashTable.get_item\u001b[0;34m()\u001b[0m\n",
      "File \u001b[0;32mpandas/_libs/hashtable_class_helper.pxi:5753\u001b[0m, in \u001b[0;36mpandas._libs.hashtable.PyObjectHashTable.get_item\u001b[0;34m()\u001b[0m\n",
      "\u001b[0;31mKeyError\u001b[0m: 'column_2'",
      "\nThe above exception was the direct cause of the following exception:\n",
      "\u001b[0;31mKeyError\u001b[0m                                  Traceback (most recent call last)",
      "Cell \u001b[0;32mIn[18], line 1\u001b[0m\n\u001b[0;32m----> 1\u001b[0m \u001b[43mdf1\u001b[49m\u001b[38;5;241;43m.\u001b[39;49m\u001b[43mmean\u001b[49m\u001b[43m(\u001b[49m\u001b[43m)\u001b[49m\u001b[43m[\u001b[49m\u001b[38;5;124;43m'\u001b[39;49m\u001b[38;5;124;43mcolumn_2\u001b[39;49m\u001b[38;5;124;43m'\u001b[39;49m\u001b[43m]\u001b[49m\n\u001b[1;32m      3\u001b[0m \u001b[38;5;66;03m#will give error bcoz there \u001b[39;00m\n",
      "File \u001b[0;32m/opt/conda/lib/python3.10/site-packages/pandas/core/series.py:981\u001b[0m, in \u001b[0;36mSeries.__getitem__\u001b[0;34m(self, key)\u001b[0m\n\u001b[1;32m    978\u001b[0m     \u001b[38;5;28;01mreturn\u001b[39;00m \u001b[38;5;28mself\u001b[39m\u001b[38;5;241m.\u001b[39m_values[key]\n\u001b[1;32m    980\u001b[0m \u001b[38;5;28;01melif\u001b[39;00m key_is_scalar:\n\u001b[0;32m--> 981\u001b[0m     \u001b[38;5;28;01mreturn\u001b[39;00m \u001b[38;5;28;43mself\u001b[39;49m\u001b[38;5;241;43m.\u001b[39;49m\u001b[43m_get_value\u001b[49m\u001b[43m(\u001b[49m\u001b[43mkey\u001b[49m\u001b[43m)\u001b[49m\n\u001b[1;32m    983\u001b[0m \u001b[38;5;28;01mif\u001b[39;00m is_hashable(key):\n\u001b[1;32m    984\u001b[0m     \u001b[38;5;66;03m# Otherwise index.get_value will raise InvalidIndexError\u001b[39;00m\n\u001b[1;32m    985\u001b[0m     \u001b[38;5;28;01mtry\u001b[39;00m:\n\u001b[1;32m    986\u001b[0m         \u001b[38;5;66;03m# For labels that don't resolve as scalars like tuples and frozensets\u001b[39;00m\n",
      "File \u001b[0;32m/opt/conda/lib/python3.10/site-packages/pandas/core/series.py:1089\u001b[0m, in \u001b[0;36mSeries._get_value\u001b[0;34m(self, label, takeable)\u001b[0m\n\u001b[1;32m   1086\u001b[0m     \u001b[38;5;28;01mreturn\u001b[39;00m \u001b[38;5;28mself\u001b[39m\u001b[38;5;241m.\u001b[39m_values[label]\n\u001b[1;32m   1088\u001b[0m \u001b[38;5;66;03m# Similar to Index.get_value, but we do not fall back to positional\u001b[39;00m\n\u001b[0;32m-> 1089\u001b[0m loc \u001b[38;5;241m=\u001b[39m \u001b[38;5;28;43mself\u001b[39;49m\u001b[38;5;241;43m.\u001b[39;49m\u001b[43mindex\u001b[49m\u001b[38;5;241;43m.\u001b[39;49m\u001b[43mget_loc\u001b[49m\u001b[43m(\u001b[49m\u001b[43mlabel\u001b[49m\u001b[43m)\u001b[49m\n\u001b[1;32m   1090\u001b[0m \u001b[38;5;28;01mreturn\u001b[39;00m \u001b[38;5;28mself\u001b[39m\u001b[38;5;241m.\u001b[39mindex\u001b[38;5;241m.\u001b[39m_get_values_for_loc(\u001b[38;5;28mself\u001b[39m, loc, label)\n",
      "File \u001b[0;32m/opt/conda/lib/python3.10/site-packages/pandas/core/indexes/base.py:3805\u001b[0m, in \u001b[0;36mIndex.get_loc\u001b[0;34m(self, key, method, tolerance)\u001b[0m\n\u001b[1;32m   3803\u001b[0m     \u001b[38;5;28;01mreturn\u001b[39;00m \u001b[38;5;28mself\u001b[39m\u001b[38;5;241m.\u001b[39m_engine\u001b[38;5;241m.\u001b[39mget_loc(casted_key)\n\u001b[1;32m   3804\u001b[0m \u001b[38;5;28;01mexcept\u001b[39;00m \u001b[38;5;167;01mKeyError\u001b[39;00m \u001b[38;5;28;01mas\u001b[39;00m err:\n\u001b[0;32m-> 3805\u001b[0m     \u001b[38;5;28;01mraise\u001b[39;00m \u001b[38;5;167;01mKeyError\u001b[39;00m(key) \u001b[38;5;28;01mfrom\u001b[39;00m \u001b[38;5;21;01merr\u001b[39;00m\n\u001b[1;32m   3806\u001b[0m \u001b[38;5;28;01mexcept\u001b[39;00m \u001b[38;5;167;01mTypeError\u001b[39;00m:\n\u001b[1;32m   3807\u001b[0m     \u001b[38;5;66;03m# If we have a listlike key, _check_indexing_error will raise\u001b[39;00m\n\u001b[1;32m   3808\u001b[0m     \u001b[38;5;66;03m#  InvalidIndexError. Otherwise we fall through and re-raise\u001b[39;00m\n\u001b[1;32m   3809\u001b[0m     \u001b[38;5;66;03m#  the TypeError.\u001b[39;00m\n\u001b[1;32m   3810\u001b[0m     \u001b[38;5;28mself\u001b[39m\u001b[38;5;241m.\u001b[39m_check_indexing_error(key)\n",
      "\u001b[0;31mKeyError\u001b[0m: 'column_2'"
     ]
    }
   ],
   "source": [
    "df1.mean()['column_2']\n",
    "\n",
    "#will give error bcoz there is a string present in column 2 and hence mean cannot be calculated"
   ]
  },
  {
   "cell_type": "markdown",
   "id": "e963c66b-a58b-4320-9f04-4d186b73f437",
   "metadata": {},
   "source": [
    "Ans 6\n",
    "\n",
    "In pandas, the window functions provide a way to perform calculations on a set of data points called a \"window\" that moves across a series or a DataFrame. These functions are particularly useful for performing rolling or expanding calculations.\n",
    "\n",
    "There are several types of window functions available in pandas:\n",
    "\n",
    "1. Rolling Window Functions: These functions operate on a fixed-size window and perform calculations on the values within that window as it moves along the data. Examples include rolling.mean(), rolling.sum(), `rolling.min()`, rolling.max(), and `rolling.std()`. These functions are useful for calculating moving averages, cumulative sums, or other rolling calculations.\n",
    "\n",
    "2. Expanding Window Functions: These functions perform calculations on all the data points up to the current position. The window size starts from a minimum size and expands as it includes more data points. Examples include `expanding.sum()`, `expanding.mean()`, and `expanding.min()`. These functions are useful for calculating cumulative sums, averages, or other expanding calculations.\n",
    "\n",
    "3. Exponential Weighted Window Functions: These functions assign weights to data points within the window, where the weights decrease exponentially as the data points get older. Examples include `ewm.mean()`, `ewm.var()`, and `ewm.std()`. These functions are useful for calculating exponentially weighted moving averages or other exponentially weighted calculations.\n",
    "\n",
    "4. Rolling Apply Functions: These functions allow applying custom functions to the rolling window. The `rolling.apply()` function takes a custom function as an argument and applies it to the data points within the window.\n",
    "\n",
    "These window functions provide powerful tools for analyzing time series data and performing various calculations based on moving or expanding windows."
   ]
  },
  {
   "cell_type": "code",
   "execution_count": 24,
   "id": "58f68004-fc7d-409a-aef3-c5a188c041e8",
   "metadata": {},
   "outputs": [
    {
     "data": {
      "text/html": [
       "<div>\n",
       "<style scoped>\n",
       "    .dataframe tbody tr th:only-of-type {\n",
       "        vertical-align: middle;\n",
       "    }\n",
       "\n",
       "    .dataframe tbody tr th {\n",
       "        vertical-align: top;\n",
       "    }\n",
       "\n",
       "    .dataframe thead th {\n",
       "        text-align: right;\n",
       "    }\n",
       "</style>\n",
       "<table border=\"1\" class=\"dataframe\">\n",
       "  <thead>\n",
       "    <tr style=\"text-align: right;\">\n",
       "      <th></th>\n",
       "      <th>Month</th>\n",
       "      <th>Year</th>\n",
       "    </tr>\n",
       "  </thead>\n",
       "  <tbody>\n",
       "    <tr>\n",
       "      <th>0</th>\n",
       "      <td>7</td>\n",
       "      <td>2023</td>\n",
       "    </tr>\n",
       "  </tbody>\n",
       "</table>\n",
       "</div>"
      ],
      "text/plain": [
       "   Month  Year\n",
       "0      7  2023"
      ]
     },
     "execution_count": 24,
     "metadata": {},
     "output_type": "execute_result"
    }
   ],
   "source": [
    "#ans 7\n",
    "import time\n",
    "\n",
    "current_date = time.localtime()\n",
    "df2 = pd.DataFrame({'Month': [current_date.tm_mon], 'Year': [current_date.tm_year]})\n",
    "df2"
   ]
  },
  {
   "cell_type": "code",
   "execution_count": 29,
   "id": "f5e02842-9802-46b3-8799-7d3fbc29b720",
   "metadata": {},
   "outputs": [
    {
     "name": "stdin",
     "output_type": "stream",
     "text": [
      "Enter end date:  2023-01-31\n",
      "Enter start date:  2023-01-01\n"
     ]
    },
    {
     "name": "stdout",
     "output_type": "stream",
     "text": [
      "30 days 00:00:00\n"
     ]
    }
   ],
   "source": [
    "#Ans 8\n",
    "\n",
    "date1 = pd.to_datetime(input('Enter end date: '))\n",
    "date2 = pd.to_datetime(input('Enter start date: '))\n",
    "if date1<date2:\n",
    "    print('Invalid')\n",
    "dif = pd.Timedelta(date1-date2)\n",
    "print(dif)"
   ]
  },
  {
   "cell_type": "code",
   "execution_count": 15,
   "id": "dc880b4b-d553-44bc-aed1-72e2695f9556",
   "metadata": {
    "tags": []
   },
   "outputs": [
    {
     "name": "stdin",
     "output_type": "stream",
     "text": [
      "Enter the CSV file path:  players.csv\n"
     ]
    },
    {
     "name": "stdout",
     "output_type": "stream",
     "text": [
      "Index(['Rk', 'Player', 'Pos', 'Age', 'Tm', 'G', 'GS', 'MP', 'FG', 'FGA', 'FG%',\n",
      "       '3P', '3PA', '3P%', '2P', '2PA', '2P%', 'eFG%', 'FT', 'FTA', 'FT%',\n",
      "       'ORB', 'DRB', 'TRB', 'AST', 'STL', 'BLK', 'TOV', 'PF', 'PTS'],\n",
      "      dtype='object')\n"
     ]
    },
    {
     "name": "stdin",
     "output_type": "stream",
     "text": [
      "Enter the column name to convert to categorical:  Pos\n"
     ]
    },
    {
     "name": "stdout",
     "output_type": "stream",
     "text": [
      "['PF' 'SG' 'C' 'SF' 'Pos' 'PG' 'SG-PG' 'PG-SG' 'SF-PF' 'SF-SG' 'SG-SF'\n",
      " 'PF-SF']\n"
     ]
    },
    {
     "name": "stdin",
     "output_type": "stream",
     "text": [
      "Enter the category order (comma-separated values):  PF,C,SF\n"
     ]
    },
    {
     "name": "stdout",
     "output_type": "stream",
     "text": [
      "      Rk          Player  Pos Age   Tm   G  GS    MP   FG   FGA  ...   FT%  \\\n",
      "0      1      Quincy Acy   PF  24  NYK  68  22  1287  152   331  ...  .784   \n",
      "217  166  Kevin Garnett*   PF  38  BRK  42  42   854  125   275  ...  .829   \n",
      "218  166  Kevin Garnett*   PF  38  MIN   5   5    98   18    31  ...  .500   \n",
      "220  168       Pau Gasol   PF  34  CHI  78  78  2681  570  1153  ...  .803   \n",
      "453  350    Kyle O'Quinn   PF  24  ORL  51  17   824  119   242  ...  .772   \n",
      "..   ...             ...  ...  ..  ...  ..  ..   ...  ...   ...  ...   ...   \n",
      "660  484    Nate Wolters  NaN  23  MIL  11   0   142   12    31  ...  .250   \n",
      "661  484    Nate Wolters  NaN  23  NOP  10   0   105    8    26  ...  .500   \n",
      "667  487     Tony Wroten  NaN  21  PHI  30  15   895  175   434  ...  .667   \n",
      "668  488     James Young  NaN  19  BOS  31   0   332   36   102  ...  .552   \n",
      "669  489      Nick Young  NaN  29  LAL  42   0  1000  174   476  ...  .892   \n",
      "\n",
      "     ORB  DRB  TRB  AST STL  BLK  TOV   PF   PTS  \n",
      "0     79  222  301   68  27   22   60  147   398  \n",
      "217   46  239  285   69  41   13   45   96   285  \n",
      "218    2   24   26    8   5    4    1   13    38  \n",
      "220  220  699  919  210  25  147  158  147  1446  \n",
      "453   46  153  199   59  31   39   55  110   294  \n",
      "..   ...  ...  ...  ...  ..  ...  ...  ...   ...  \n",
      "660    2   14   16   10   5    0    3   11    25  \n",
      "661    6   12   18   11   3    2   10    7    17  \n",
      "667   22   64   86  157  48    8  113   72   507  \n",
      "668    9   33   42   13   8    2    5   22   105  \n",
      "669   17   79   96   41  23   11   44   83   563  \n",
      "\n",
      "[675 rows x 30 columns]\n"
     ]
    }
   ],
   "source": [
    "#Ans 9\n",
    "\n",
    "file_path = input(\"Enter the CSV file path: \")\n",
    "df = pd.read_csv(file_path)\n",
    "print(df.columns)\n",
    "\n",
    "column_name = input(\"Enter the column name to convert to categorical: \")\n",
    "print(df[f'{column_name}'].unique())\n",
    "\n",
    "category_order = input(\"Enter the category order (comma-separated values): \").split(\",\")\n",
    "\n",
    "df[column_name] = pd.Categorical(df[column_name], categories=category_order, ordered=True)\n",
    "\n",
    "sorted_df = df.sort_values(column_name)\n",
    "\n",
    "print(sorted_df)"
   ]
  },
  {
   "cell_type": "code",
   "execution_count": 21,
   "id": "cf4c2f95-f7d0-4bd2-91f8-69ac1857165d",
   "metadata": {},
   "outputs": [
    {
     "name": "stdin",
     "output_type": "stream",
     "text": [
      "Enter file name: sales.csv\n"
     ]
    },
    {
     "data": {
      "text/plain": [
       "Text(0, 0.5, 'Sales')"
      ]
     },
     "execution_count": 21,
     "metadata": {},
     "output_type": "execute_result"
    },
    {
     "data": {
      "image/png": "[encoded data removed]",
      "text/plain": [
       "<Figure size 640x480 with 1 Axes>"
      ]
     },
     "metadata": {},
     "output_type": "display_data"
    }
   ],
   "source": [
    "#Ans 10\n",
    "import pandas as pd\n",
    "\n",
    "file  = input('Enter file name:')\n",
    "\n",
    "df = pd.DataFrame(pd.read_csv(file))\n",
    "\n",
    "df.set_index('Time_Period', inplace=True)\n",
    "\n",
    "df.plot(kind = 'bar', stacked = True)\n",
    "plt.title('Sales by Product Category Over Time')\n",
    "plt.xlabel('Time Period')\n",
    "plt.ylabel('Sales')"
   ]
  },
  {
   "cell_type": "code",
   "execution_count": 4,
   "id": "191de6cf-b008-43b3-8cda-4af723d331df",
   "metadata": {},
   "outputs": [
    {
     "name": "stdin",
     "output_type": "stream",
     "text": [
      "Enter file path: student_data.csv\n"
     ]
    },
    {
     "data": {
      "text/html": [
       "<div>\n",
       "<style scoped>\n",
       "    .dataframe tbody tr th:only-of-type {\n",
       "        vertical-align: middle;\n",
       "    }\n",
       "\n",
       "    .dataframe tbody tr th {\n",
       "        vertical-align: top;\n",
       "    }\n",
       "\n",
       "    .dataframe thead th {\n",
       "        text-align: right;\n",
       "    }\n",
       "</style>\n",
       "<table border=\"1\" class=\"dataframe\">\n",
       "  <thead>\n",
       "    <tr style=\"text-align: right;\">\n",
       "      <th></th>\n",
       "      <th>Student ID</th>\n",
       "      <th>Test Score</th>\n",
       "    </tr>\n",
       "  </thead>\n",
       "  <tbody>\n",
       "    <tr>\n",
       "      <th>0</th>\n",
       "      <td>1</td>\n",
       "      <td>85</td>\n",
       "    </tr>\n",
       "    <tr>\n",
       "      <th>1</th>\n",
       "      <td>2</td>\n",
       "      <td>90</td>\n",
       "    </tr>\n",
       "    <tr>\n",
       "      <th>2</th>\n",
       "      <td>3</td>\n",
       "      <td>80</td>\n",
       "    </tr>\n",
       "    <tr>\n",
       "      <th>3</th>\n",
       "      <td>4</td>\n",
       "      <td>75</td>\n",
       "    </tr>\n",
       "    <tr>\n",
       "      <th>4</th>\n",
       "      <td>5</td>\n",
       "      <td>85</td>\n",
       "    </tr>\n",
       "    <tr>\n",
       "      <th>5</th>\n",
       "      <td>6</td>\n",
       "      <td>82</td>\n",
       "    </tr>\n",
       "    <tr>\n",
       "      <th>6</th>\n",
       "      <td>7</td>\n",
       "      <td>78</td>\n",
       "    </tr>\n",
       "    <tr>\n",
       "      <th>7</th>\n",
       "      <td>8</td>\n",
       "      <td>85</td>\n",
       "    </tr>\n",
       "    <tr>\n",
       "      <th>8</th>\n",
       "      <td>9</td>\n",
       "      <td>90</td>\n",
       "    </tr>\n",
       "    <tr>\n",
       "      <th>9</th>\n",
       "      <td>10</td>\n",
       "      <td>85</td>\n",
       "    </tr>\n",
       "  </tbody>\n",
       "</table>\n",
       "</div>"
      ],
      "text/plain": [
       "   Student ID  Test Score\n",
       "0           1          85\n",
       "1           2          90\n",
       "2           3          80\n",
       "3           4          75\n",
       "4           5          85\n",
       "5           6          82\n",
       "6           7          78\n",
       "7           8          85\n",
       "8           9          90\n",
       "9          10          85"
      ]
     },
     "execution_count": 4,
     "metadata": {},
     "output_type": "execute_result"
    }
   ],
   "source": [
    "#Ans 11\n",
    "\n",
    "file = pd.read_csv(input('Enter file path:'))\n",
    "data = pd.DataFrame(file)"
   ]
  },
  {
   "cell_type": "code",
   "execution_count": 13,
   "id": "e6496be0-c16b-44a2-9a48-2168ccad363d",
   "metadata": {},
   "outputs": [
    {
     "data": {
      "text/html": [
       "<div>\n",
       "<style scoped>\n",
       "    .dataframe tbody tr th:only-of-type {\n",
       "        vertical-align: middle;\n",
       "    }\n",
       "\n",
       "    .dataframe tbody tr th {\n",
       "        vertical-align: top;\n",
       "    }\n",
       "\n",
       "    .dataframe thead th {\n",
       "        text-align: right;\n",
       "    }\n",
       "</style>\n",
       "<table border=\"1\" class=\"dataframe\">\n",
       "  <thead>\n",
       "    <tr style=\"text-align: right;\">\n",
       "      <th></th>\n",
       "      <th>stats</th>\n",
       "    </tr>\n",
       "  </thead>\n",
       "  <tbody>\n",
       "    <tr>\n",
       "      <th>mean</th>\n",
       "      <td>83.5</td>\n",
       "    </tr>\n",
       "    <tr>\n",
       "      <th>median</th>\n",
       "      <td>85.0</td>\n",
       "    </tr>\n",
       "    <tr>\n",
       "      <th>mode</th>\n",
       "      <td>85.0</td>\n",
       "    </tr>\n",
       "  </tbody>\n",
       "</table>\n",
       "</div>"
      ],
      "text/plain": [
       "        stats\n",
       "mean     83.5\n",
       "median   85.0\n",
       "mode     85.0"
      ]
     },
     "execution_count": 13,
     "metadata": {},
     "output_type": "execute_result"
    }
   ],
   "source": [
    "stats = pd.DataFrame({'stats':[data.mean()['Test Score'], \n",
    "                               data.median()['Test Score'], \n",
    "                               data.mode()['Test Score'][0]]},\n",
    "                     index = ['mean','median','mode'])\n",
    "stats"
   ]
  }
 ],
 "metadata": {
  "kernelspec": {
   "display_name": "Python 3 (ipykernel)",
   "language": "python",
   "name": "python3"
  },
  "language_info": {
   "codemirror_mode": {
    "name": "ipython",
    "version": 3
   },
   "file_extension": ".py",
   "mimetype": "text/x-python",
   "name": "python",
   "nbconvert_exporter": "python",
   "pygments_lexer": "ipython3",
   "version": "3.10.8"
  }
 },
 "nbformat": 4,
 "nbformat_minor": 5
}
