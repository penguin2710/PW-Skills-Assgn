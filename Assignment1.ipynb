{
 "cells": [
  {
   "cell_type": "code",
   "execution_count": 1,
   "id": "96a72ee9-9d2b-4993-8cfa-08725b24af78",
   "metadata": {},
   "outputs": [],
   "source": [
    "#Ans 1\n",
    "\n",
    "a = \"String\"\n",
    "b = [1, \"Hello\", True, 1+2j]\n",
    "c = 2.23\n",
    "d = (2, \"hey\", False)"
   ]
  },
  {
   "cell_type": "code",
   "execution_count": null,
   "id": "39c17afb-258f-4322-8639-73f33f45ba9a",
   "metadata": {},
   "outputs": [],
   "source": [
    "#Ans 2\n",
    "var1 = \" \"\n",
    "var2 = '[ DS , ML , Python]'\n",
    "var3 = [ 'DS' , 'ML' , 'Python' ]\n",
    "var4 = 1.            \n",
    "\n",
    "print(type(var1))\n",
    "print(type(var2))\n",
    "print(type(var3))\n",
    "print(type(var4))"
   ]
  },
  {
   "cell_type": "code",
   "execution_count": null,
   "id": "8e101cd2-6475-4c64-8b1f-0e9a38469fd1",
   "metadata": {},
   "outputs": [],
   "source": [
    "# Ans 3\n",
    "5/9"
   ]
  },
  {
   "cell_type": "code",
   "execution_count": null,
   "id": "e48f3167-38a5-4e69-a06d-dbc720897d4e",
   "metadata": {},
   "outputs": [],
   "source": [
    "5%9"
   ]
  },
  {
   "cell_type": "code",
   "execution_count": null,
   "id": "e0dae162-159d-4e43-836c-b5506a2efd06",
   "metadata": {},
   "outputs": [],
   "source": [
    "5//9"
   ]
  },
  {
   "cell_type": "code",
   "execution_count": null,
   "id": "a83e95b8-2cc1-4de3-b465-f9e5f1ff447f",
   "metadata": {},
   "outputs": [],
   "source": [
    "2**3"
   ]
  },
  {
   "cell_type": "code",
   "execution_count": null,
   "id": "d4c6dcdc-273d-42db-a39f-c7996b8a3111",
   "metadata": {},
   "outputs": [],
   "source": [
    "#Ans 4\n",
    "list1 = [1, 3, True, 1.3, 1+2j, \"str\", 8, \"@\", (1,2), 10]\n",
    "\n",
    "for i in list1:\n",
    "    print (i)"
   ]
  },
  {
   "cell_type": "code",
   "execution_count": null,
   "id": "9c9ddb6d-fb9a-4b4f-b456-a4827609754f",
   "metadata": {},
   "outputs": [],
   "source": [
    "#Ans 5\n",
    "\n",
    "A = 100\n",
    "B = 5\n",
    "div = 0\n",
    "\n",
    "while A%B == 0:\n",
    "    A/=B\n",
    "    div = div +1\n",
    " \n",
    "print(div)"
   ]
  },
  {
   "cell_type": "code",
   "execution_count": null,
   "id": "65af9b70-0940-4c43-9b8e-5bad21027be8",
   "metadata": {},
   "outputs": [],
   "source": [
    "#Ans 6\n",
    "\n",
    "list1 = list(range(1,26))\n",
    "\n",
    "for i in list1:\n",
    "    print (i)\n",
    "    if i%3 == 0:\n",
    "        print (\"Divisible by 3\")\n",
    "    else:\n",
    "        print(\"Not divisible\")"
   ]
  },
  {
   "cell_type": "code",
   "execution_count": null,
   "id": "ef7d80e2-1f5d-4366-8202-7dd813b1333b",
   "metadata": {},
   "outputs": [],
   "source": [
    "#Ans 7\n",
    "\n",
    "# when data can be changed on a particular index, it is called mutable otherwise immutable\n",
    "\n",
    "list1 = [1,2,3,4]\n",
    "tuple1 = (1,3,4,5)\n",
    "\n",
    "print(list1)\n",
    "list1[1] = \"hey\"\n",
    "print(list1)\n",
    "\n",
    "print(tuple1)\n",
    "tuple1[1] = \"hey\"      #this will give error as it is not possible\n",
    "print(tuple1)  "
   ]
  }
 ],
 "metadata": {
  "kernelspec": {
   "display_name": "Python 3 (ipykernel)",
   "language": "python",
   "name": "python3"
  },
  "language_info": {
   "codemirror_mode": {
    "name": "ipython",
    "version": 3
   },
   "file_extension": ".py",
   "mimetype": "text/x-python",
   "name": "python",
   "nbconvert_exporter": "python",
   "pygments_lexer": "ipython3",
   "version": "3.10.8"
  }
 },
 "nbformat": 4,
 "nbformat_minor": 5
}
