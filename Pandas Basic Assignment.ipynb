{
 "cells": [
  {
   "cell_type": "code",
   "execution_count": 1,
   "id": "e08ff2ef-9ef0-48bf-b951-9464dcd2e151",
   "metadata": {},
   "outputs": [
    {
     "name": "stdout",
     "output_type": "stream",
     "text": [
      "0     4\n",
      "1     8\n",
      "2    15\n",
      "3    16\n",
      "4    23\n",
      "5    42\n",
      "dtype: int64\n"
     ]
    }
   ],
   "source": [
    "#Ans 1\n",
    "import pandas as pd\n",
    "\n",
    "data = [4, 8, 15, 16, 23, 42]\n",
    "series = pd.Series(data)\n",
    "\n",
    "print(series)"
   ]
  },
  {
   "cell_type": "code",
   "execution_count": 2,
   "id": "88426446-7063-475c-b697-720e66405f86",
   "metadata": {},
   "outputs": [
    {
     "name": "stdout",
     "output_type": "stream",
     "text": [
      "0                    2\n",
      "1                  3.4\n",
      "2                 True\n",
      "3               (1+2j)\n",
      "4               [1, 5]\n",
      "5    {'class': 'data'}\n",
      "6               (5, 7)\n",
      "7                  Pra\n",
      "8                   99\n",
      "9                  100\n",
      "dtype: object\n"
     ]
    }
   ],
   "source": [
    "#Ans 2\n",
    "data1 = [2, 3.4, True, 1+2j, [1,5], {'class':'data'}, (5,7), \"Pra\", 99, 100]\n",
    "series1 = pd.Series(data1)\n",
    "\n",
    "print(series1)"
   ]
  },
  {
   "cell_type": "code",
   "execution_count": 5,
   "id": "acb0d588-b49c-4fd1-84ce-3362861784ac",
   "metadata": {},
   "outputs": [
    {
     "name": "stdout",
     "output_type": "stream",
     "text": [
      "     Name  Age  Gender\n",
      "0   Alice   25  Female\n",
      "1     Bob   30    Male\n",
      "2  Claire   27  Female\n"
     ]
    }
   ],
   "source": [
    "#Ans 3\n",
    "\n",
    "tabledata = {'Name':['Alice','Bob','Claire'],\n",
    "         'Age':[25,30,27],\n",
    "         'Gender':['Female', 'Male', 'Female']\n",
    "        }\n",
    "table = pd.DataFrame(tabledata)\n",
    "print(table)"
   ]
  },
  {
   "cell_type": "markdown",
   "id": "e072c0d3-4434-4d23-b496-8f2270da2ef8",
   "metadata": {},
   "source": [
    "Ans 4\n",
    "In Pandas, a DataFrame is a 2-dimensional labeled data structure that represents a tabular data object with rows and columns. It is similar to a table in a relational database or a spreadsheet in Excel. A DataFrame can contain data of different types (e.g., numbers, strings, dates) and allows for flexible indexing and manipulation of the data.\n",
    "\n",
    "On the other hand, a Series is a one-dimensional labeled array that can hold any data type. It is similar to a column in a DataFrame or a single column from a spreadsheet. A Series has a single column of data and an associated index. It is often used to represent a single variable or feature."
   ]
  },
  {
   "cell_type": "code",
   "execution_count": 6,
   "id": "699df93e-e01c-4f20-948b-ec0e1d7631c4",
   "metadata": {},
   "outputs": [
    {
     "name": "stdout",
     "output_type": "stream",
     "text": [
      "DataFrame:\n",
      "     Name  Age  Gender\n",
      "0   Alice   25  Female\n",
      "1     Bob   30    Male\n",
      "2  Claire   27  Female\n",
      "\n",
      "Series:\n",
      "0    25\n",
      "1    30\n",
      "2    27\n",
      "Name: Age, dtype: int64\n"
     ]
    }
   ],
   "source": [
    "data = {\n",
    "    'Name': ['Alice', 'Bob', 'Claire'],\n",
    "    'Age': [25, 30, 27],\n",
    "    'Gender': ['Female', 'Male', 'Female']\n",
    "}\n",
    "\n",
    "df = pd.DataFrame(data)\n",
    "print(\"DataFrame:\")\n",
    "print(df)\n",
    "print()\n",
    "\n",
    "# Create a Series\n",
    "ages = pd.Series([25, 30, 27], name='Age')\n",
    "print(\"Series:\")\n",
    "print(ages)"
   ]
  },
  {
   "cell_type": "markdown",
   "id": "6e6883c2-b837-4375-af7d-f55f4d410ccc",
   "metadata": {},
   "source": [
    "Ans 5\n",
    "head()\n",
    "tail()\n",
    "info()\n",
    "describe()\n",
    "shape\n",
    "unique()\n",
    "value_counts()\n",
    "sort_values()\n",
    "groupby()\n",
    "fillna()\n",
    "apply()"
   ]
  },
  {
   "cell_type": "markdown",
   "id": "1fa6f3db-666a-4e76-97a0-7ba356ed887e",
   "metadata": {},
   "source": [
    "Ans 6\n",
    "the DataFrame is the mutable object, meaning it can be modified after creation. The Series and Panel objects, on the other hand, are immutable, which means they cannot be modified once created."
   ]
  },
  {
   "cell_type": "code",
   "execution_count": 15,
   "id": "57bc9d8d-6183-463e-9f2a-0ec746409bc2",
   "metadata": {},
   "outputs": [
    {
     "name": "stdout",
     "output_type": "stream",
     "text": [
      "   Country  Population          Capital\n",
      "0      USA   331002651  Washington D.C.\n",
      "1   Canada    37742154           Ottawa\n",
      "2  Germany    83149300           Berlin\n"
     ]
    }
   ],
   "source": [
    "#Ans 7\n",
    "\n",
    "countries = pd.Series(['USA', 'Canada', 'Germany'])\n",
    "populations = pd.Series([331002651, 37742154, 83149300])\n",
    "capitals = pd.Series(['Washington D.C.', 'Ottawa', 'Berlin'])\n",
    "\n",
    "data = {'Country': countries, 'Population': populations, 'Capital': capitals}\n",
    "df = pd.DataFrame(data)\n",
    "\n",
    "print(df)"
   ]
  }
 ],
 "metadata": {
  "kernelspec": {
   "display_name": "Python 3 (ipykernel)",
   "language": "python",
   "name": "python3"
  },
  "language_info": {
   "codemirror_mode": {
    "name": "ipython",
    "version": 3
   },
   "file_extension": ".py",
   "mimetype": "text/x-python",
   "name": "python",
   "nbconvert_exporter": "python",
   "pygments_lexer": "ipython3",
   "version": "3.10.8"
  }
 },
 "nbformat": 4,
 "nbformat_minor": 5
}
