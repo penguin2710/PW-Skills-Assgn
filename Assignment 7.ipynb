{
 "cells": [
  {
   "cell_type": "code",
   "execution_count": 7,
   "metadata": {},
   "outputs": [
    {
     "name": "stdout",
     "output_type": "stream",
     "text": [
      "Running\n"
     ]
    }
   ],
   "source": [
    "#Ans 1\n",
    "\n",
    "'''Abstraction allows you to hide complex implementation details and expose only the necessary information and functionality to the user'''\n",
    "\n",
    "from abc import ABC, abstractmethod\n",
    "\n",
    "class Animal:\n",
    "\n",
    "    @abstractmethod\n",
    "    def move(self):\n",
    "        pass\n",
    "\n",
    "class Dog(Animal):\n",
    "\n",
    "    def move(self):\n",
    "        return \"Running\"\n",
    "\n",
    "# Creating instances of the classes\n",
    "dog = Dog()\n",
    "\n",
    "# Accessing the concrete methods\n",
    "print(dog.move())  \n"
   ]
  },
  {
   "cell_type": "code",
   "execution_count": 2,
   "metadata": {},
   "outputs": [
    {
     "name": "stdout",
     "output_type": "stream",
     "text": [
      "100\n",
      "Value is 10\n",
      "30.0\n",
      "Value is 6.0\n"
     ]
    }
   ],
   "source": [
    "#Ans 2\n",
    "\n",
    "class myclass:\n",
    "    def __init__(self, value):\n",
    "        self.v = value\n",
    "    \n",
    "    def show(self):\n",
    "        print(f\"Value is {self.v}\")\n",
    "    \n",
    "    @property               #this is called getter. it can be used to call the value as an int in the method\n",
    "    def ten_value(self):\n",
    "        return 10*self.v\n",
    "    \n",
    "obj = myclass(10)\n",
    "print(obj.ten_value)\n",
    "obj.show()\n",
    "\n",
    "class MyClass:\n",
    "  def __init__(self, value):\n",
    "      self._value = value\n",
    "    \n",
    "  @property\n",
    "  def ten_value(self):\n",
    "      return self._value*5\n",
    "    \n",
    "  @ten_value.setter                       #to change the value of variable\n",
    "  def ten_value(self, new_value):    \n",
    "      self._value = new_value/10\n",
    "\n",
    "  def show(self):\n",
    "      print(f\"Value is {self._value}\")\n",
    "\n",
    "obj = MyClass(10)\n",
    "obj.ten_value = 60                 \n",
    "print(obj.ten_value)\n",
    "obj.show()     "
   ]
  },
  {
   "cell_type": "code",
   "execution_count": null,
   "metadata": {},
   "outputs": [],
   "source": [
    "'''The abc module in Python stands for \"Abstract Base Classes.\" It provides a mechanism for defining abstract base \n",
    "classes in Python. An abstract base class is a class that cannot be instantiated directly but serves as a blueprint for other classes.'''"
   ]
  },
  {
   "cell_type": "code",
   "execution_count": 6,
   "metadata": {},
   "outputs": [
    {
     "name": "stdout",
     "output_type": "stream",
     "text": [
      "5\n",
      "7\n",
      "Radius must be a positive value.\n"
     ]
    }
   ],
   "source": [
    "class Circle:\n",
    "    def __init__(self, radius):\n",
    "        self.__radius = radius\n",
    "\n",
    "    @property\n",
    "    def radius(self):\n",
    "        return self.__radius\n",
    "\n",
    "    @radius.setter\n",
    "    def radius(self, value):\n",
    "        if value > 0:\n",
    "            self.__radius = value\n",
    "        else:\n",
    "            print(\"Radius must be a positive value.\")\n",
    "\n",
    "    def area(self):\n",
    "        return 3.14 * self.__radius ** 2\n",
    "\n",
    "\n",
    "circle = Circle(5)\n",
    "print(circle.radius)\n",
    "\n",
    "circle.radius = 7\n",
    "print(circle.radius) \n",
    "circle.radius = -7"
   ]
  },
  {
   "cell_type": "code",
   "execution_count": 9,
   "metadata": {},
   "outputs": [
    {
     "ename": "TypeError",
     "evalue": "Can't instantiate abstract class Student with abstract method classroom",
     "output_type": "error",
     "traceback": [
      "\u001b[0;31m---------------------------------------------------------------------------\u001b[0m",
      "\u001b[0;31mTypeError\u001b[0m                                 Traceback (most recent call last)",
      "Cell \u001b[0;32mIn[9], line 7\u001b[0m\n\u001b[1;32m      3\u001b[0m     \u001b[39m@abstractmethod\u001b[39m\n\u001b[1;32m      4\u001b[0m     \u001b[39mdef\u001b[39;00m \u001b[39mclassroom\u001b[39m(\u001b[39mself\u001b[39m):\n\u001b[1;32m      5\u001b[0m         \u001b[39mpass\u001b[39;00m\n\u001b[0;32m----> 7\u001b[0m a \u001b[39m=\u001b[39m Student()\n\u001b[1;32m      8\u001b[0m a\u001b[39m.\u001b[39mclassroom()\n",
      "\u001b[0;31mTypeError\u001b[0m: Can't instantiate abstract class Student with abstract method classroom"
     ]
    }
   ],
   "source": [
    "class Student(ABC):  \n",
    "    \n",
    "    @abstractmethod\n",
    "    def classroom(self):\n",
    "        pass\n",
    "    \n",
    "a = Student()\n",
    "\n",
    "#Will give error as it just serves as a blueprint"
   ]
  }
 ],
 "metadata": {
  "kernelspec": {
   "display_name": "Python 3",
   "language": "python",
   "name": "python3"
  },
  "language_info": {
   "codemirror_mode": {
    "name": "ipython",
    "version": 3
   },
   "file_extension": ".py",
   "mimetype": "text/x-python",
   "name": "python",
   "nbconvert_exporter": "python",
   "pygments_lexer": "ipython3",
   "version": "3.11.3"
  },
  "orig_nbformat": 4
 },
 "nbformat": 4,
 "nbformat_minor": 2
}
