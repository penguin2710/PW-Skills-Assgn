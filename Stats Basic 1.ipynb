{
 "cells": [
  {
   "cell_type": "markdown",
   "metadata": {},
   "source": [
    "Ans 1\n",
    "\n",
    "Sience of collecting, organizing and analyzing data is called statistics"
   ]
  },
  {
   "cell_type": "markdown",
   "metadata": {},
   "source": [
    "Ans 2\n",
    "\n",
    "Descriptive - organizing and summarizing data\n",
    "\n",
    "Inferential - using the measured data to derive conclusions"
   ]
  },
  {
   "cell_type": "markdown",
   "metadata": {},
   "source": [
    "Ans 3\n",
    "\n",
    "Types of data:\n",
    "\n",
    "1. Quantitative: i. Discreet     ii. continous\n",
    "2. Qualitative: i. Nominal     ii. Ordinal"
   ]
  },
  {
   "cell_type": "markdown",
   "metadata": {},
   "source": [
    "Ans 4\n",
    "\n",
    "(i) Grading in exam: A+, A, B+, B, C+, C, D, E    Qualitative\n",
    "\n",
    "(ii) Colour of mangoes: yellow, green, orange, red   Qualitative\n",
    "\n",
    "(iii) Height data of a class: [178.9, 179, 179.5, 176, 177.2, 178.3, 175.8,...]    Quantitative\n",
    "\n",
    "(iv) Number of mangoes exported by a farm: [500, 600, 478, 672, ...]   Quantitative"
   ]
  },
  {
   "cell_type": "markdown",
   "metadata": {},
   "source": [
    "Ans 5\n",
    "\n",
    "Levels of measurement refer to the different ways in which variables can be classified based on the nature of their data. The four levels are nominal, ordinal, interval, and ratio. Nominal level involves categorical data without any inherent order, such as gender (male/female). Ordinal level implies a natural order among categories, like educational qualification (high school, bachelor's, master's). Interval level includes data with meaningful intervals, but lacking a true zero point, such as temperature in Celsius. Ratio level encompasses data with meaningful intervals and a true zero point, like height (in centimeters) or weight (in kilograms). These levels help determine the appropriate statistical analysis and interpretation for a given variable."
   ]
  },
  {
   "cell_type": "markdown",
   "metadata": {},
   "source": [
    "Ans 6\n",
    "\n",
    "Understanding the level of measurement is crucial when analyzing data because it determines the appropriate statistical analysis and the interpretation of results. Different levels of measurement require specific statistical tests and techniques to derive meaningful insights. For example, using a mean (average) to analyze nominal data, like colors (red, blue, green), would be inappropriate because there is no inherent numerical value. Instead, measures like mode or frequency distribution would be more suitable. Misinterpreting or using incorrect statistical methods based on the level of measurement can lead to erroneous conclusions and invalid inferences, highlighting the importance of understanding the level of measurement for accurate data analysis."
   ]
  },
  {
   "cell_type": "markdown",
   "metadata": {},
   "source": [
    "Ans 7\n",
    "\n",
    "Nominal data type does not have a specific rank among the data points\n",
    "\n",
    "Ordinal data type has a specified natural rank among the data."
   ]
  },
  {
   "cell_type": "markdown",
   "metadata": {},
   "source": [
    "Ans 8\n",
    "\n",
    "Box plot can be used to visualize data in terms of range"
   ]
  },
  {
   "cell_type": "markdown",
   "metadata": {},
   "source": [
    "Ans 9\n",
    "\n",
    "Descriptive statistics involve summarizing and describing data using measures such as mean, median, and standard deviation. They provide a concise overview of the data and help identify patterns, central tendencies, and variability. For example, calculating the average height of a group of individuals is a descriptive statistic.\n",
    "\n",
    "Inferential statistics, on the other hand, involve making inferences or drawing conclusions about a population based on a sample. They involve hypothesis testing, estimating parameters, and determining the significance of relationships. For instance, conducting a t-test to compare the average test scores of two groups and determining whether the difference is statistically significant is an example of inferential statistics.\n",
    "\n",
    "Descriptive statistics describe the data itself, while inferential statistics draw conclusions about a larger population based on the sample data."
   ]
  },
  {
   "cell_type": "markdown",
   "metadata": {},
   "source": [
    "Ans 10\n",
    "\n",
    "Common measures of central tendency in statistics include the mean, median, and mode. The mean is the average of a dataset and provides a measure of the typical value. It is calculated by summing all values and dividing by the number of observations. The median represents the middle value when the data is ordered and is not affected by extreme values. The mode is the most frequent value in the dataset.\n",
    "\n",
    "Measures of variability include the range, variance, and standard deviation. The range is the difference between the maximum and minimum values and provides an indication of the spread of the data. Variance measures the average squared deviation from the mean, giving an overall measure of data dispersion. Standard deviation is the square root of the variance and provides a more interpretable measure of spread, as it is in the same units as the original data.\n",
    "\n",
    "These measures are used to describe a dataset by providing information about the central value (mean, median, mode) and the spread or variability (range, variance, standard deviation). They offer insights into the distribution and characteristics of the data, aiding in comparisons, identification of outliers, and general understanding of the dataset's characteristics."
   ]
  }
 ],
 "metadata": {
  "language_info": {
   "name": "python"
  },
  "orig_nbformat": 4
 },
 "nbformat": 4,
 "nbformat_minor": 2
}
