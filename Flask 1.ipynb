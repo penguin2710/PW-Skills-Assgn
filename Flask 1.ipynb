{
 "cells": [
  {
   "attachments": {},
   "cell_type": "markdown",
   "metadata": {},
   "source": [
    "Ans 1\n",
    "\n",
    "Flask is a lightweight and flexible web framework for Python. It offers a minimalist approach to web development, providing only essential tools and features. With its simplicity, Flask allows developers to have more control and customization over their applications. It has a shallow learning curve, making it easy for beginners to get started quickly. Flask also has a large and active community, offering extensive documentation, tutorials, and third-party extensions. Overall, Flask's advantages lie in its simplicity, flexibility, ease of use, and the strong support it receives from the Python community."
   ]
  },
  {
   "cell_type": "code",
   "execution_count": 3,
   "metadata": {},
   "outputs": [],
   "source": [
    "#Ans 2\n",
    "\n",
    "from flask import Flask, request\n",
    "\n",
    "page = Flask(__name__)\n",
    "\n",
    "@page.route(\"/\")\n",
    "def hello():\n",
    "    return \"<h>Hello World!!</h>\""
   ]
  },
  {
   "cell_type": "code",
   "execution_count": null,
   "metadata": {},
   "outputs": [],
   "source": [
    "![Alt Text] https://github.com/penguin2710/PW-Skills-Assgn/blob/main/Screenshot%202023-07-05%20at%2012.54.00%20PM.png?raw=true"
   ]
  },
  {
   "attachments": {},
   "cell_type": "markdown",
   "metadata": {},
   "source": [
    "Ans 3\n",
    "\n",
    "App routing in Flask refers to the process of defining URL routes and associating them with corresponding functions or views in a Flask application. It involves mapping specific URLs to specific functions that will handle the requests and generate responses. App routes are used to define the different endpoints or pages of a web application. By using app routes, we can specify the desired behavior of our application based on the incoming URL. This enables us to create a logical structure for our application, handle different types of requests (GET, POST, etc.), and provide appropriate responses to the users based on their interactions with the application."
   ]
  },
  {
   "cell_type": "code",
   "execution_count": null,
   "metadata": {},
   "outputs": [],
   "source": [
    "@page.route(\"/welcome\")\n",
    "def welcome():\n",
    "    return \"<h>Welcome to ABC Corporation!\"\n",
    "\n",
    "@page.route(\"/\")\n",
    "def details():\n",
    "    return \"<h>Company Name: ABC Corporation<br> Location: India<br> Contact Details: 999-999-9999</h>\""
   ]
  },
  {
   "cell_type": "code",
   "execution_count": null,
   "metadata": {},
   "outputs": [],
   "source": [
    "![Alt Text] https://github.com/penguin2710/PW-Skills-Assgn/blob/main/Screenshot%202023-07-05%20at%205.02.48%20PM.png?raw=true"
   ]
  },
  {
   "cell_type": "code",
   "execution_count": null,
   "metadata": {},
   "outputs": [],
   "source": [
    "![Alt Text] https://github.com/penguin2710/PW-Skills-Assgn/blob/main/Screenshot%202023-07-05%20at%205.02.28%20PM.png?raw=true"
   ]
  },
  {
   "attachments": {},
   "cell_type": "markdown",
   "metadata": {},
   "source": [
    "In Flask, the url_for() function is used for URL building. It generates a URL for a specific endpoint based on its name and any arguments provided. This function is useful as it abstracts the URL generation process and allows us to easily link to specific routes within our application."
   ]
  },
  {
   "cell_type": "code",
   "execution_count": 1,
   "metadata": {},
   "outputs": [
    {
     "name": "stdout",
     "output_type": "stream",
     "text": [
      "URL for home page: /\n",
      "URL for about page: /about\n",
      "URL for contact page: /contact\n"
     ]
    }
   ],
   "source": [
    "from flask import Flask, url_for\n",
    "\n",
    "app = Flask(__name__)\n",
    "\n",
    "@app.route('/')\n",
    "def home():\n",
    "    return 'Home Page'\n",
    "\n",
    "@app.route('/about')\n",
    "def about():\n",
    "    return 'About Page'\n",
    "\n",
    "@app.route('/contact')\n",
    "def contact():\n",
    "    return 'Contact Page'\n",
    "\n",
    "if __name__ == '__main__':\n",
    "    with app.test_request_context():\n",
    "        # Generating URLs using url_for()\n",
    "        home_url = url_for('home')\n",
    "        about_url = url_for('about')\n",
    "        contact_url = url_for('contact')\n",
    "\n",
    "        print(\"URL for home page:\", home_url)\n",
    "        print(\"URL for about page:\", about_url)\n",
    "        print(\"URL for contact page:\", contact_url)"
   ]
  }
 ],
 "metadata": {
  "kernelspec": {
   "display_name": "Python 3.8.10 64-bit",
   "language": "python",
   "name": "python3"
  },
  "language_info": {
   "codemirror_mode": {
    "name": "ipython",
    "version": 3
   },
   "file_extension": ".py",
   "mimetype": "text/x-python",
   "name": "python",
   "nbconvert_exporter": "python",
   "pygments_lexer": "ipython3",
   "version": "3.11.3"
  },
  "orig_nbformat": 4,
  "vscode": {
   "interpreter": {
    "hash": "e7370f93d1d0cde622a1f8e1c04877d8463912d04d973331ad4851f04de6915a"
   }
  }
 },
 "nbformat": 4,
 "nbformat_minor": 2
}
