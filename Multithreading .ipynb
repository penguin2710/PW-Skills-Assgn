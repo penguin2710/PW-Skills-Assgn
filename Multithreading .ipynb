{
 "cells": [
  {
   "attachments": {},
   "cell_type": "markdown",
   "metadata": {},
   "source": [
    "Ans 1\n",
    "\n",
    "Ability of a program to execute multiple threads concurrently within a single process. It is used to utilize the resources efficiently and make the code run faster. threading module is used to handle threads in python"
   ]
  },
  {
   "attachments": {},
   "cell_type": "markdown",
   "metadata": {},
   "source": [
    "Ans 2\n",
    "\n",
    "activeCount(): it is used to obtain the number of currently active Thread objects in the program.\n",
    "\n",
    "current_thread(): used to obtain a reference to the current Thread object that is executing the code.\n",
    "\n",
    "enumerate(): used to obtain a list of all active Thread objects in the current Python program"
   ]
  },
  {
   "attachments": {},
   "cell_type": "markdown",
   "metadata": {},
   "source": [
    "Ans 3\n",
    "\n",
    "run(): executes the target function synchronously in the current thread, blocking further execution until the function completes. It does not provide the benefits of multithreading or parallel execution.\n",
    "\n",
    "start(): creates a new thread and runs the target function concurrently with the main thread, allowing for parallelism and concurrency.\n",
    "\n",
    "join(): used to wait for a thread to complete its execution before proceeding with the rest of the program.\n",
    "\n",
    "isAlive(): used to check if a thread is currently executing or still active."
   ]
  },
  {
   "cell_type": "code",
   "execution_count": 23,
   "metadata": {},
   "outputs": [
    {
     "name": "stdout",
     "output_type": "stream",
     "text": [
      "[1, 4, 9, 16, 25, 36, 49, 64, 81]\n",
      "[1, 8, 27, 64, 125, 216, 343, 512, 729]\n"
     ]
    }
   ],
   "source": [
    "#Ans 4\n",
    "\n",
    "import threading\n",
    "\n",
    "def sqr(start, end):\n",
    "    list1 = [x**2 for x in range(start,end)]\n",
    "    print(list1)\n",
    "\n",
    "def cube(start, end):\n",
    "    list2 = [y**3 for y in range(start,end)]\n",
    "    print(list2)\n",
    "\n",
    "\n",
    "thread1 = threading.Thread(target=sqr, args=(1,10))\n",
    "thread2 = threading.Thread(target=cube, args=(1,10))\n",
    "\n",
    "thread1.start()\n",
    "thread2.start()"
   ]
  },
  {
   "attachments": {},
   "cell_type": "markdown",
   "metadata": {},
   "source": [
    "Ans 5\n",
    "\n",
    "Advantages of multithreading include improved performance through concurrency and parallel execution, enhanced responsiveness by preventing blocking of the user interface, efficient resource sharing among threads, and modular design for better code organization. However, multithreading introduces complexity, requiring careful coordination and synchronization to avoid race conditions and deadlocks. It can also lead to resource contentions and increased memory overhead. Additionally, the benefits of multithreading may be limited by diminishing returns on CPU scaling. Overall, multithreading offers significant benefits in terms of performance and responsiveness, but it requires careful consideration and management of its complexities and potential drawbacks."
   ]
  },
  {
   "attachments": {},
   "cell_type": "markdown",
   "metadata": {},
   "source": [
    "Ans 6\n",
    "\n",
    "Deadlocks: A deadlock occurs when two or more threads or processes are waiting for each other to release resources, resulting in a state of deadlock where none of them can proceed. Deadlocks typically involve a circular dependency of resources, where each thread holds one resource and is waiting for another resource that is held by another thread.\n",
    "\n",
    "Race Conditions: A race condition occurs when multiple threads access and manipulate shared data simultaneously, resulting in unpredictable and undesired outcomes. Race conditions arise when the outcome of the program depends on the relative timing of thread execution, leading to inconsistent or incorrect results."
   ]
  }
 ],
 "metadata": {
  "kernelspec": {
   "display_name": "Python 3",
   "language": "python",
   "name": "python3"
  },
  "language_info": {
   "codemirror_mode": {
    "name": "ipython",
    "version": 3
   },
   "file_extension": ".py",
   "mimetype": "text/x-python",
   "name": "python",
   "nbconvert_exporter": "python",
   "pygments_lexer": "ipython3",
   "version": "3.11.3"
  },
  "orig_nbformat": 4
 },
 "nbformat": 4,
 "nbformat_minor": 2
}
