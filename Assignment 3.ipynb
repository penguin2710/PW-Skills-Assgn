{
 "cells": [
  {
   "cell_type": "code",
   "execution_count": 16,
   "metadata": {},
   "outputs": [
    {
     "name": "stdout",
     "output_type": "stream",
     "text": [
      "[1, 3, 5, 7, 9, 11, 13, 15, 17, 19, 21, 23]\n"
     ]
    }
   ],
   "source": [
    "#Ans 1\n",
    "# def keyword is used\n",
    "\n",
    "def odds():\n",
    "    l = []\n",
    "    for i in range(25):\n",
    "        if i%2 != 0:\n",
    "            l.append(i)\n",
    "    print(l)\n",
    "\n",
    "odds()"
   ]
  },
  {
   "cell_type": "code",
   "execution_count": 28,
   "metadata": {},
   "outputs": [
    {
     "name": "stdout",
     "output_type": "stream",
     "text": [
      "3.5\n"
     ]
    },
    {
     "data": {
      "text/plain": [
       "{'mname': 'Buchanan', 'lname': 'Barnes', 'fname': 'James'}"
      ]
     },
     "execution_count": 28,
     "metadata": {},
     "output_type": "execute_result"
    }
   ],
   "source": [
    "'''Ans 2: *args is used to provide multiple arguments to a function as a tuple, \n",
    "          **kwargs is used to provide multiple arguments as a dictionary\n",
    "          however these are not keywords'''\n",
    "\n",
    "def avg(*numbers):    \n",
    "    sum=0\n",
    "    for i in numbers:\n",
    "        sum=sum+i\n",
    "    print(sum/len(numbers))\n",
    "\n",
    "def name(**name):\n",
    "    return name\n",
    "\n",
    "avg(1,3,4,6)\n",
    "name(mname = \"Buchanan\", lname = \"Barnes\", fname = \"James\")\n"
   ]
  },
  {
   "cell_type": "code",
   "execution_count": 30,
   "metadata": {},
   "outputs": [
    {
     "name": "stdout",
     "output_type": "stream",
     "text": [
      "2\n",
      "4\n",
      "6\n",
      "8\n",
      "10\n"
     ]
    }
   ],
   "source": [
    "#Ans 3: Iterators are used to iterate over a collection of elements, such as a list or a string, in a sequential manner.\n",
    "#     The method used to initialize an iterator is __iter__(). It is responsible for returning the iterator object itself.\n",
    "\n",
    "list1 = [2,4,6,8,10,12,14,16,18,20]\n",
    "obj = iter(list1)\n",
    "\n",
    "for i in range(5):\n",
    "    print(next(obj))"
   ]
  },
  {
   "cell_type": "code",
   "execution_count": null,
   "metadata": {},
   "outputs": [
    {
     "name": "stdout",
     "output_type": "stream",
     "text": [
      "hello 0\n",
      "0\n",
      "hello 1\n",
      "1\n",
      "hello 2\n",
      "2\n",
      "P\n",
      "r\n"
     ]
    }
   ],
   "source": [
    "''' Ans 4:\n",
    "Generators- does not make or store all the values at once, only when it is called This makes generators a powerful \n",
    "tool for working with large or complex data sets, as you can generate the values as you need them, rather than having to\n",
    "store them all in memory at once. it is helpful when complex functions are needed to be performed on iterable values''' \n",
    "\n",
    "def my_generator():\n",
    "    for i in range(5):\n",
    "        print(f\"hello {i}\")\n",
    "        yield i\n",
    "\n",
    "gen = my_generator()\n",
    "print(next(gen))            #to call the generator and generate single value in the loop sequence \n",
    "print(next(gen))\n",
    "print(next(gen))\n",
    "\n",
    "for j in  gen:        #to make the loop work normally and print all the values at once\n",
    "  print(j)\n",
    "\n",
    "s = 'Pratham'\n",
    "s1 = iter(s)          #this converts string to iterator string\n",
    "print(next(s1))\n",
    "print(next(s1))"
   ]
  },
  {
   "cell_type": "code",
   "execution_count": 41,
   "metadata": {},
   "outputs": [
    {
     "name": "stdout",
     "output_type": "stream",
     "text": [
      "0\n",
      "1\n",
      "1\n",
      "2\n",
      "3\n",
      "5\n",
      "8\n",
      "13\n",
      "21\n",
      "34\n"
     ]
    }
   ],
   "source": [
    "#Ans 6\n",
    "def fib():\n",
    "    x = 0\n",
    "    y = 1\n",
    "    while True:\n",
    "        yield x\n",
    "        x, y = y, x+y\n",
    "\n",
    "func= fib()\n",
    "for i in range(10):\n",
    "    print(next(func))"
   ]
  },
  {
   "cell_type": "code",
   "execution_count": 43,
   "metadata": {},
   "outputs": [
    {
     "name": "stdout",
     "output_type": "stream",
     "text": [
      "['p', 'w', 's', 'k', 'i', 'l', 'l', 's']\n"
     ]
    }
   ],
   "source": [
    "#Ans 7\n",
    "\n",
    "s = 'pwskills'\n",
    "list1 = list(iter(s))\n",
    "print(list1)"
   ]
  },
  {
   "cell_type": "code",
   "execution_count": 45,
   "metadata": {},
   "outputs": [
    {
     "name": "stdout",
     "output_type": "stream",
     "text": [
      "The number is a palindrome!\n"
     ]
    }
   ],
   "source": [
    "#Ans 8\n",
    "n=int(input(\"Enter number:\"))\n",
    "temp=n\n",
    "rev=0\n",
    "while(n>0):\n",
    "    dig=n%10\n",
    "    rev=rev*10+dig\n",
    "    n=n//10\n",
    "if(temp==rev):\n",
    "    print(\"The number is a palindrome!\")\n",
    "else:\n",
    "    print(\"The number isn't a palindrome!\")"
   ]
  },
  {
   "cell_type": "code",
   "execution_count": 49,
   "metadata": {},
   "outputs": [
    {
     "name": "stdout",
     "output_type": "stream",
     "text": [
      "[1, 3, 5, 7, 9, 11, 13, 15, 17, 19, 21, 23, 25, 27, 29, 31, 33, 35, 37, 39, 41, 43, 45, 47, 49, 51, 53, 55, 57, 59, 61, 63, 65, 67, 69, 71, 73, 75, 77, 79, 81, 83, 85, 87, 89, 91, 93, 95, 97, 99]\n"
     ]
    }
   ],
   "source": [
    "#Ans 9\n",
    "l1 = list(range(1,101))\n",
    "l2 = filter(lambda x: x%2 !=0, l1)\n",
    "print (list(l2))"
   ]
  }
 ],
 "metadata": {
  "kernelspec": {
   "display_name": "Python 3",
   "language": "python",
   "name": "python3"
  },
  "language_info": {
   "name": "python",
   "version": "3.11.3"
  },
  "orig_nbformat": 4
 },
 "nbformat": 4,
 "nbformat_minor": 2
}
