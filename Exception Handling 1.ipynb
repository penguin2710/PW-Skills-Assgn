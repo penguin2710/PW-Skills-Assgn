{
 "cells": [
  {
   "attachments": {},
   "cell_type": "markdown",
   "metadata": {},
   "source": [
    "#Ans 1\n",
    "\n",
    "exception in Python is an event that occurs during the execution of a program that disrupts the normal flow of instructions.\n",
    "\n",
    "Exceptions: Exceptions occur during the execution of a program when something unexpected or erroneous happens. They can be caused by a variety of factors, such as invalid input, resource unavailability, or logical errors in the code. Examples of exceptions in Python include ValueError, TypeError, FileNotFoundError, and ZeroDivisionError. Exceptions can be caught and handled using try and except blocks, allowing the program to gracefully handle the exceptional situation and continue executing.\n",
    "\n",
    "Syntax Errors: Syntax errors, also known as parsing errors, occur when the Python interpreter encounters code that violates the rules of the Python language. These errors happen during the parsing phase, before the code is executed. Syntax errors are usually caused by typos, missing parentheses or colons, or incorrect indentation. When a syntax error is encountered, the interpreter raises a SyntaxError exception, and the program cannot proceed until the syntax error is fixed. Syntax errors need to be corrected manually by modifying the code.\n",
    "\n"
   ]
  },
  {
   "cell_type": "code",
   "execution_count": 2,
   "metadata": {},
   "outputs": [
    {
     "ename": "ZeroDivisionError",
     "evalue": "division by zero",
     "output_type": "error",
     "traceback": [
      "\u001b[0;31m---------------------------------------------------------------------------\u001b[0m",
      "\u001b[0;31mZeroDivisionError\u001b[0m                         Traceback (most recent call last)",
      "Cell \u001b[0;32mIn[2], line 4\u001b[0m\n\u001b[1;32m      1\u001b[0m \u001b[39m#Ans 2\u001b[39;00m\n\u001b[1;32m      3\u001b[0m \u001b[39m'''If exceptions are not handeled, it will give an error'''\u001b[39;00m\n\u001b[0;32m----> 4\u001b[0m \u001b[39mprint\u001b[39m (\u001b[39m10\u001b[39;49m\u001b[39m/\u001b[39;49m\u001b[39m0\u001b[39;49m)\n\u001b[1;32m      6\u001b[0m \u001b[39mprint\u001b[39m(\u001b[39m\"\u001b[39m\u001b[39mEnd of code\u001b[39m\u001b[39m\"\u001b[39m)\n",
      "\u001b[0;31mZeroDivisionError\u001b[0m: division by zero"
     ]
    }
   ],
   "source": [
    "#Ans 2\n",
    "\n",
    "'''If exceptions are not handeled, it will give an error and subsequent lines of code will not run'''\n",
    "print (10/0)\n",
    "\n",
    "print(\"End of code\")"
   ]
  },
  {
   "cell_type": "code",
   "execution_count": 4,
   "metadata": {},
   "outputs": [
    {
     "name": "stdout",
     "output_type": "stream",
     "text": [
      "this is except block\n",
      "This will always execute regardless of try and except\n"
     ]
    }
   ],
   "source": [
    "#Ans 3\n",
    "\n",
    "try:\n",
    "    print(10/0)\n",
    "except:\n",
    "    print(\"this is except block\")\n",
    "else:\n",
    "    print(\"only executes when try is completed successfully\")\n",
    "finally:\n",
    "    print(\"This will always execute regardless of try and except\")"
   ]
  },
  {
   "cell_type": "code",
   "execution_count": 9,
   "metadata": {},
   "outputs": [
    {
     "name": "stdout",
     "output_type": "stream",
     "text": [
      "5.0\n",
      "try was successfull\n",
      "Wrong expression\n",
      "Always executed\n",
      "2\n"
     ]
    },
    {
     "ename": "ValueError",
     "evalue": "Value should be between 5 and 9",
     "output_type": "error",
     "traceback": [
      "\u001b[0;31m---------------------------------------------------------------------------\u001b[0m",
      "\u001b[0;31mValueError\u001b[0m                                Traceback (most recent call last)",
      "Cell \u001b[0;32mIn[9], line 23\u001b[0m\n\u001b[1;32m     21\u001b[0m \u001b[39melif\u001b[39;00m(\u001b[39mint\u001b[39m(a)\u001b[39m<\u001b[39m\u001b[39m5\u001b[39m  \u001b[39mor\u001b[39;00m \u001b[39mint\u001b[39m(a)\u001b[39m>\u001b[39m\u001b[39m9\u001b[39m):\n\u001b[1;32m     22\u001b[0m   \u001b[39mprint\u001b[39m(a)\n\u001b[0;32m---> 23\u001b[0m   \u001b[39mraise\u001b[39;00m  \u001b[39mValueError\u001b[39;00m(\u001b[39m\"\u001b[39m\u001b[39mValue should be between 5 and 9\u001b[39m\u001b[39m\"\u001b[39m)\n\u001b[1;32m     24\u001b[0m \u001b[39melse\u001b[39;00m:\n\u001b[1;32m     25\u001b[0m   \u001b[39mprint\u001b[39m(a)\n",
      "\u001b[0;31mValueError\u001b[0m: Value should be between 5 and 9"
     ]
    }
   ],
   "source": [
    "#ans 4\n",
    "\n",
    "try:\n",
    "    print(10/2)\n",
    "except:\n",
    "    print(\"division not possible\")\n",
    "else:\n",
    "    print(\"try was successfull\")\n",
    "\n",
    "try:\n",
    "    print(\"a\"+ 2)\n",
    "except:\n",
    "    print(\"Wrong expression\")\n",
    "finally:\n",
    "    print(\"Always executed\")\n",
    "\n",
    "a = (input(\"Enter any value between 5 and 9: \"))\n",
    "\n",
    "if a==\"quit\":\n",
    "  print(\"Exited\")\n",
    "elif(int(a)<5  or int(a)>9):\n",
    "  print(a)\n",
    "  raise  ValueError(\"Value should be between 5 and 9\")\n",
    "else:\n",
    "  print(a)"
   ]
  },
  {
   "cell_type": "code",
   "execution_count": 10,
   "metadata": {},
   "outputs": [
    {
     "ename": "ValueError",
     "evalue": "Not an integer",
     "output_type": "error",
     "traceback": [
      "\u001b[0;31m---------------------------------------------------------------------------\u001b[0m",
      "\u001b[0;31mValueError\u001b[0m                                Traceback (most recent call last)",
      "Cell \u001b[0;32mIn[10], line 10\u001b[0m\n\u001b[1;32m      8\u001b[0m     \u001b[39mprint\u001b[39m(\u001b[39m\"\u001b[39m\u001b[39mGood\u001b[39m\u001b[39m\"\u001b[39m)\n\u001b[1;32m      9\u001b[0m \u001b[39melif\u001b[39;00m \u001b[39mtype\u001b[39m(a)\u001b[39m==\u001b[39m\u001b[39mstr\u001b[39m:\n\u001b[0;32m---> 10\u001b[0m     \u001b[39mraise\u001b[39;00m \u001b[39mValueError\u001b[39;00m(\u001b[39m\"\u001b[39m\u001b[39mNot an integer\u001b[39m\u001b[39m\"\u001b[39m)\n",
      "\u001b[0;31mValueError\u001b[0m: Not an integer"
     ]
    }
   ],
   "source": [
    "#Ans 4\n",
    "\n",
    "'''custom errors are user defined errors which are used to handle specific exceptions in python for specified conditions'''\n",
    "\n",
    "a = \"a string\"\n",
    "\n",
    "if type(a)==int:\n",
    "    print(\"Good\")\n",
    "elif type(a)==str:\n",
    "    raise ValueError(\"Not an integer\")"
   ]
  },
  {
   "cell_type": "code",
   "execution_count": null,
   "metadata": {},
   "outputs": [],
   "source": [
    "#Ans 5\n",
    "\n",
    "class validateage(Exception):\n",
    "  def __init__(self, msg):\n",
    "    self.msg = msg\n",
    "\n",
    "def validage(age):\n",
    "  if age<0:\n",
    "    raise validateage(\"negative age\")\n",
    "  elif age>150:\n",
    "    raise validateage(\"too high\")\n",
    "  else:\n",
    "    print(\"Valid\")\n",
    "\n",
    "try:\n",
    "  age = int(input(\"Enter age:\"))\n",
    "  validage(age)\n",
    "except validateage as e:\n",
    "  print(e)"
   ]
  }
 ],
 "metadata": {
  "kernelspec": {
   "display_name": "Python 3",
   "language": "python",
   "name": "python3"
  },
  "language_info": {
   "codemirror_mode": {
    "name": "ipython",
    "version": 3
   },
   "file_extension": ".py",
   "mimetype": "text/x-python",
   "name": "python",
   "nbconvert_exporter": "python",
   "pygments_lexer": "ipython3",
   "version": "3.11.3"
  },
  "orig_nbformat": 4
 },
 "nbformat": 4,
 "nbformat_minor": 2
}
