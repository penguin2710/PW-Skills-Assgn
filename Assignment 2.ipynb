{
 "cells": [
  {
   "cell_type": "code",
   "execution_count": 5,
   "metadata": {},
   "outputs": [
    {
     "name": "stdout",
     "output_type": "stream",
     "text": [
      "This is a docstring\n"
     ]
    }
   ],
   "source": [
    "#Ans 1\n",
    "#This is a single line comment.\n",
    "'''This is \n",
    "a multi line\n",
    "comment'''\n",
    "\n",
    "def func1():\n",
    "    '''This is a docstring'''\n",
    "    return 1\n",
    "\n",
    "func1()\n",
    "print(func1.__doc__)"
   ]
  },
  {
   "attachments": {},
   "cell_type": "markdown",
   "metadata": {},
   "source": [
    "Ans 2:\n",
    "A variable is a reference to an object stored in python. To declare and assign a variable, simply write, for eg: \n",
    "\n",
    "a = 25\n",
    "b = \"hey\"\n",
    "\n",
    "here a is the variable which has been assigned the integer value 25 and b has been assigned string object \"hey\""
   ]
  },
  {
   "attachments": {},
   "cell_type": "markdown",
   "metadata": {},
   "source": [
    "Ans 3:\n",
    "one data type can be converted to other using typecasting. for eg:\n",
    "\n",
    "a = \"25\"\n",
    "here a is taken as a string \n",
    "a1=int(a)\n",
    "it has been typecasted i.e now a will be converted from string to integer"
   ]
  },
  {
   "attachments": {},
   "cell_type": "markdown",
   "metadata": {},
   "source": [
    "Ans 4: Just write python into the command line to activate the kernel. make sure python is installed on the system. then we can provide the script normally"
   ]
  },
  {
   "cell_type": "code",
   "execution_count": 9,
   "metadata": {},
   "outputs": [
    {
     "name": "stdout",
     "output_type": "stream",
     "text": [
      "[2, 3]\n"
     ]
    }
   ],
   "source": [
    "#Ans 5\n",
    "\n",
    "my_list = [1,2,3,4,5]\n",
    "print(my_list[1:3])"
   ]
  },
  {
   "attachments": {},
   "cell_type": "markdown",
   "metadata": {},
   "source": [
    "Ans 6: A complex number in maths has a real and an imaginary part. the imaginary part is the one with 'i' i.e iota:\n",
    "whereas in python the concept is same, but instead of i, j is used\n",
    "\n",
    "for eg :\n",
    "in maths: 1+2i\n",
    "in python: 1+2j"
   ]
  },
  {
   "cell_type": "code",
   "execution_count": 10,
   "metadata": {},
   "outputs": [],
   "source": [
    "#Ans 7\n",
    "age = 25"
   ]
  },
  {
   "cell_type": "code",
   "execution_count": null,
   "metadata": {},
   "outputs": [],
   "source": [
    "#Ans 8\n",
    "price = 9.99\n",
    "print(type(price))"
   ]
  },
  {
   "cell_type": "code",
   "execution_count": null,
   "metadata": {},
   "outputs": [],
   "source": [
    "#Ans 9\n",
    "\n",
    "name = 'Pratham Goyal'\n",
    "print(name)"
   ]
  },
  {
   "cell_type": "code",
   "execution_count": 11,
   "metadata": {},
   "outputs": [
    {
     "name": "stdout",
     "output_type": "stream",
     "text": [
      "World\n"
     ]
    }
   ],
   "source": [
    "#Ans 10\n",
    "\n",
    "a = \"Hello, World!\"\n",
    "substring = a[7:12]\n",
    "print(substring)"
   ]
  },
  {
   "cell_type": "code",
   "execution_count": 14,
   "metadata": {},
   "outputs": [
    {
     "name": "stdout",
     "output_type": "stream",
     "text": [
      "False\n"
     ]
    }
   ],
   "source": [
    "#Ans 11\n",
    "\n",
    "student = input(\"yes or no\")\n",
    "is_student = True if student == \"yes\" else False\n",
    "\n",
    "print(is_student)"
   ]
  }
 ],
 "metadata": {
  "kernelspec": {
   "display_name": "Python 3",
   "language": "python",
   "name": "python3"
  },
  "language_info": {
   "codemirror_mode": {
    "name": "ipython",
    "version": 3
   },
   "file_extension": ".py",
   "mimetype": "text/x-python",
   "name": "python",
   "nbconvert_exporter": "python",
   "pygments_lexer": "ipython3",
   "version": "3.11.3"
  },
  "orig_nbformat": 4
 },
 "nbformat": 4,
 "nbformat_minor": 2
}
