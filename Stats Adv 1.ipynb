{
 "cells": [
  {
   "cell_type": "markdown",
   "id": "5fa2671a-ee11-467a-9195-87d128249a6b",
   "metadata": {},
   "source": [
    "Ans 1\n",
    "\n",
    "The Probability Density Function (PDF) is a fundamental concept in probability theory and statistics. It is used to describe the likelihood of a continuous random variable taking on a specific value within a given range. The PDF is commonly denoted by the function f(x), where \"x\" is the random variable."
   ]
  },
  {
   "cell_type": "markdown",
   "id": "1fd0396d-37c4-46ef-9908-4c0f6e93770c",
   "metadata": {},
   "source": [
    "Ans 2\n",
    "\n",
    "Discrete Probability Distributions:\n",
    "A discrete probability distribution is used to model random variables that can only take on a finite or countably infinite set of distinct values.\n",
    "Probability mass function (PMF) is used to describe the probabilities of the different outcomes.\n",
    "\n",
    "Continuous Probability Distributions:\n",
    "A continuous probability distribution is used to model random variables that can take on any value within a certain range (usually an interval on the real line).\n",
    "Probability density function (PDF) is used to describe the probabilities of the different outcomes."
   ]
  },
  {
   "cell_type": "code",
   "execution_count": 4,
   "id": "420a7f9a-bab7-49ed-8a64-611b28a3140b",
   "metadata": {},
   "outputs": [
    {
     "name": "stdout",
     "output_type": "stream",
     "text": [
      "PDF at x=1.5: 0.12951759566589174\n"
     ]
    }
   ],
   "source": [
    "#Ans 3\n",
    "from scipy.stats import norm\n",
    "\n",
    "mean = 0      # Mean of the normal distribution\n",
    "std_dev = 1   # Standard deviation of the normal distribution\n",
    "x = 1.5       # Point at which to calculate the PDF\n",
    "\n",
    "pdf_value = norm.pdf(x, loc=mean, scale=std_dev)\n",
    "print(f\"PDF at x={x}: {pdf_value}\")"
   ]
  },
  {
   "cell_type": "markdown",
   "id": "db808e54-6584-4583-a00d-57a418ad573d",
   "metadata": {},
   "source": [
    "Ans 4\n",
    "\n",
    "The Binomial distribution is a discrete probability distribution that models the number of successes in a fixed number of independent Bernoulli trials, where each trial has only two possible outcomes (usually denoted as success and failure).\n",
    "\n",
    "Two examples of events where the Binomial distribution can be applied are:\n",
    "\n",
    "1. Coin Flips: Consider flipping a biased coin (e.g., with a probability of getting heads as 0.6) ten times. The number of times we get heads in these ten flips can be modeled using a Binomial distribution.\n",
    "\n",
    "2. Quality Control: In a manufacturing process, products may be tested for defects, and each product can be considered a trial. Let's say the probability of a product being defective is 0.05. The number of defective products in a batch of 100 items can be modeled using a Binomial distribution."
   ]
  },
  {
   "cell_type": "code",
   "execution_count": 13,
   "id": "cafbbe7f-90ff-48d7-bf5c-e035d88fc248",
   "metadata": {},
   "outputs": [
    {
     "data": {
      "image/png": "[encoded data removed]",
      "text/plain": [
       "<Figure size 640x480 with 1 Axes>"
      ]
     },
     "metadata": {},
     "output_type": "display_data"
    }
   ],
   "source": [
    "#Ans 5\n",
    "import numpy as np\n",
    "import matplotlib.pyplot as plt\n",
    "\n",
    "n_trials = 10    # Number of trials\n",
    "p_success = 0.4  # Probability of success on each trial\n",
    "sample_size = 1000  # Size of the random sample\n",
    "\n",
    "random_sample = np.random.binomial(n_trials, p_success, sample_size)\n",
    "\n",
    "plt.hist(random_sample, bins=np.arange(n_trials + 2) - 0.5, edgecolor='black')\n",
    "plt.xlabel('Number of Successes')\n",
    "plt.ylabel('Frequency')\n",
    "plt.title('Histogram of Random Sample from Binomial Distribution')\n",
    "plt.xticks(np.arange(n_trials + 1))\n",
    "plt.show()"
   ]
  },
  {
   "cell_type": "code",
   "execution_count": 15,
   "id": "9e754699-a347-41c6-95bd-69b8dd015c52",
   "metadata": {},
   "outputs": [
    {
     "name": "stdout",
     "output_type": "stream",
     "text": [
      "CDF at x=5: 0.2650259152973616\n"
     ]
    }
   ],
   "source": [
    "#Ans 6\n",
    "\n",
    "from scipy.stats import poisson\n",
    "\n",
    "mean = 3.5  # Mean of the Poisson distribution\n",
    "x = 5       # Point at which to calculate the CDF\n",
    "\n",
    "cdf_value_at_x = poisson.cdf(mean, x)\n",
    "\n",
    "print(f\"CDF at x={x}: {cdf_value_at_x}\")"
   ]
  },
  {
   "cell_type": "markdown",
   "id": "2bf96bf5-abcd-4dee-bbd8-b2b6635ecd73",
   "metadata": {},
   "source": [
    "Ans 7\n",
    "\n",
    "The Binomial distribution and Poisson distribution are both probability distributions used to model the number of events or successes in a certain number of trials or occurrences. However, they have some fundamental differences:\n",
    "\n",
    "1. Nature of Trials: \n",
    "\n",
    "Binomial Distribution: The Binomial distribution is used to model the number of successes (usually denoted as \"k\") in a fixed number of independent Bernoulli trials (usually denoted as \"n\"). Each trial has only two possible outcomes (success or failure), and the probability of success remains constant for all trials.\n",
    "Poisson Distribution: The Poisson distribution, on the other hand, is used to model the number of events (usually denoted as \"k\") that occur in a fixed interval of time or space. The events occur at random, independently, and with a constant average rate (usually denoted as \"λ\").\n",
    "\n",
    "2. Number of Trials/Occurrences:\n",
    "\n",
    "Binomial Distribution: The number of trials (\"n\") in a Binomial distribution is fixed and discrete, representing a countable number of independent events.\n",
    "Poisson Distribution: The Poisson distribution deals with a countable number of occurrences within a continuous interval of time or space. It does not have a fixed number of trials but rather models events over a continuous range.\n",
    "\n",
    "3. Probability Parameters:\n",
    "\n",
    "Binomial Distribution: The Binomial distribution depends on two parameters: the number of trials (\"n\") and the probability of success on each trial (\"p\").\n",
    "Poisson Distribution: The Poisson distribution depends on a single parameter: the average rate of events (\"λ\") in the given interval.\n",
    "\n",
    "4. Discreteness:\n",
    "\n",
    "Binomial Distribution: The Binomial distribution is a discrete probability distribution, as it deals with a fixed number of trials and outcomes (successes) that can take only integer values.\n",
    "Poisson Distribution: The Poisson distribution is also a discrete probability distribution, as it models the count of events occurring in a continuous interval, and the number of events can only take non-negative integer values.\n",
    "\n",
    "5. Application:\n",
    "\n",
    "Binomial Distribution: The Binomial distribution is commonly used when there are only two possible outcomes in each trial (success or failure), and we are interested in the number of successes in a fixed number of trials. Examples include coin flips, product quality control, and binomial experiments.\n",
    "Poisson Distribution: The Poisson distribution is used when we are interested in modeling the number of rare events occurring in a fixed interval of time or space, such as the number of accidents in a day, the number of customers arriving at a store per hour, or the number of defects in a product during a given time period."
   ]
  },
  {
   "cell_type": "code",
   "execution_count": 21,
   "id": "d5fc5141-7e52-4085-a6fa-c84ba4f01df1",
   "metadata": {},
   "outputs": [
    {
     "name": "stdout",
     "output_type": "stream",
     "text": [
      "Sample Mean: 4.95\n",
      "Sample Variance: 4.928428428428428\n"
     ]
    }
   ],
   "source": [
    "#Ans 8\n",
    "\n",
    "mean = 5        # Mean of the Poisson distribution\n",
    "sample_size = 1000  # Size of the random sample\n",
    "\n",
    "random_sample = np.random.poisson(mean, sample_size)\n",
    "\n",
    "sample_mean = np.mean(random_sample)\n",
    "sample_variance = np.var(random_sample, ddof=1)  # Set ddof=1 for sample variance (n-1 degrees of freedom)\n",
    "\n",
    "print(f\"Sample Mean: {sample_mean}\",)\n",
    "print(f\"Sample Variance: {sample_variance}\")"
   ]
  },
  {
   "cell_type": "markdown",
   "id": "a2adc7bb-d272-4dac-b566-7333c80c2a9d",
   "metadata": {},
   "source": [
    "Ans 9\n",
    "\n",
    "The mean and variance in both the Binomial distribution and Poisson distribution are related to the parameters of their respective distributions. Let's explore these relationships for each distribution:\n",
    "\n",
    "1. Binomial Distribution:\n",
    "   - Mean (μ) = n * p\n",
    "     where \"n\" is the number of trials (total number of independent Bernoulli trials) and \"p\" is the probability of success on each trial.\n",
    "   - Variance (σ^2) = n * p * (1 - p)\n",
    "     where \"n\" is the number of trials and \"p\" is the probability of success on each trial.\n",
    "\n",
    "   In the Binomial distribution, both the mean and variance depend on the number of trials (\"n\") and the probability of success on each trial (\"p\"). The mean represents the average number of successes in \"n\" trials, and the variance quantifies the spread or dispersion of the number of successes around the mean.\n",
    "\n",
    "2. Poisson Distribution:\n",
    "   - Mean (μ) = λ\n",
    "     where \"λ\" (lambda) is the average rate of events (average number of occurrences) in a fixed interval of time or space.\n",
    "   - Variance (σ^2) = λ\n",
    "     where \"λ\" (lambda) is the average rate of events (average number of occurrences) in the fixed interval.\n",
    "\n",
    "   In the Poisson distribution, both the mean and variance are equal and are directly determined by the average rate \"λ.\" The mean represents the average number of events occurring in the fixed interval, and the variance is equal to the mean itself.\n",
    "\n",
    "Comparing the mean and variance relationships between the two distributions:\n",
    "- In the Binomial distribution, the variance is influenced by both the number of trials and the probability of success, while the mean is the product of the number of trials and the probability of success.\n",
    "- In the Poisson distribution, the variance is equal to the mean and is solely determined by the average rate of events (lambda).\n",
    "\n",
    "These relationships highlight that in the Poisson distribution, the variance is equal to the mean, indicating that the variance is not influenced by other parameters as it is in the Binomial distribution. Additionally, in both distributions, if the probability (p in Binomial) or rate (lambda in Poisson) is small, the variance will be closer to the mean, and as the probability or rate increases, the variance becomes larger in relation to the mean."
   ]
  },
  {
   "cell_type": "markdown",
   "id": "27cd9e90-649d-44e3-87ff-6efb187cc2b0",
   "metadata": {},
   "source": [
    "Ans 10\n",
    "\n",
    "\n",
    "In a normal distribution, the least frequent data appears in the tails of the distribution, farthest away from the mean position. The normal distribution, also known as the Gaussian distribution, is a symmetric probability distribution characterized by its bell-shaped curve. The center of the curve represents the mean of the distribution, and the tails extend to both sides."
   ]
  },
  {
   "cell_type": "code",
   "execution_count": null,
   "id": "f7be2594-5ec5-4b8b-99ce-e994423c1d7e",
   "metadata": {},
   "outputs": [],
   "source": []
  }
 ],
 "metadata": {
  "kernelspec": {
   "display_name": "Python 3 (ipykernel)",
   "language": "python",
   "name": "python3"
  },
  "language_info": {
   "codemirror_mode": {
    "name": "ipython",
    "version": 3
   },
   "file_extension": ".py",
   "mimetype": "text/x-python",
   "name": "python",
   "nbconvert_exporter": "python",
   "pygments_lexer": "ipython3",
   "version": "3.10.8"
  }
 },
 "nbformat": 4,
 "nbformat_minor": 5
}
