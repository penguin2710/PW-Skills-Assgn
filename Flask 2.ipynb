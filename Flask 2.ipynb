{
 "cells": [
  {
   "attachments": {},
   "cell_type": "markdown",
   "metadata": {},
   "source": [
    "Ans 1\n",
    "\n",
    "GET is used to take query in an open format which is visible to the client url\n",
    "\n",
    "POST is used to take query as a form which is not visible to the client url"
   ]
  },
  {
   "attachments": {},
   "cell_type": "markdown",
   "metadata": {},
   "source": [
    "Ans 2\n",
    "\n",
    "In the Flask web framework, the request object is used to access incoming request data in your application. It provides access to the data submitted by a client, such as form data, query parameters, headers, cookies, and the request method.\n",
    "\n",
    "Here are some common use cases for the request object in Flask:\n",
    "\n",
    "Retrieving Form Data: When a client submits a form in a web application, the form data is sent in the request. The request.form attribute allows you to access the form data as a dictionary, where the keys are the names of the form fields.\n",
    "\n",
    "Handling Query Parameters: Query parameters are used to send additional data in the URL. The request.args attribute provides access to the query parameters as a dictionary. It allows you to retrieve values based on the parameter names.\n",
    "\n",
    "Accessing Headers: The request.headers attribute gives you access to the headers sent by the client. You can use it to retrieve information such as the user agent, content type, or authentication tokens.\n",
    "\n",
    "Working with Cookies: The request.cookies attribute provides access to the cookies sent by the client. You can retrieve cookie values using the cookie names.\n",
    "\n",
    "Determining the Request Method: The request.method attribute allows you to determine the HTTP method used by the client, such as GET, POST, PUT, DELETE, etc. This is useful for distinguishing different types of requests and taking appropriate actions."
   ]
  },
  {
   "attachments": {},
   "cell_type": "markdown",
   "metadata": {},
   "source": [
    "Ans 3\n",
    "\n",
    "The redirect function in Flask is used to redirect the user's browser to a different URL. It is a convenient way to handle HTTP redirects in your Flask application. When a redirect is performed, the server responds to the client with a special HTTP status code (usually 302 Found) and provides the new URL to which the client should make a subsequent request.\n",
    "\n",
    "Here are a few common use cases for using redirect in Flask:\n",
    "\n",
    "URL Redirection: You can use redirect to redirect users to a different page or URL within your application. For example, after a successful form submission, you might want to redirect the user to a thank-you page or a different section of your site.\n",
    "\n",
    "Handling Authentication and Authorization: When a user attempts to access a protected resource without proper authentication or authorization, you can redirect them to a login page or an access denied page using redirect.\n",
    "\n",
    "Handling Post-Redirect-Get (PRG) Pattern: The PRG pattern is a common web development practice where, after processing a POST request, you redirect the user to a different URL using redirect. This helps prevent duplicate form submissions when users refresh the page, as it instructs the browser to perform a new GET request to the redirected URL.\n",
    "\n",
    "External URL Redirection: You can also use redirect to redirect users to external websites. This is useful when you want to redirect users to external resources, such as social media profiles, external documentation, or external services."
   ]
  },
  {
   "attachments": {},
   "cell_type": "markdown",
   "metadata": {},
   "source": [
    "Ans 4\n",
    "\n",
    "In Flask, templates are files that contain HTML markup with placeholders for dynamic content. They allow you to separate the presentation logic from the application logic. Templates enable you to create dynamic web pages by combining HTML with data from your Flask application.\n",
    "\n"
   ]
  }
 ],
 "metadata": {
  "language_info": {
   "name": "python"
  },
  "orig_nbformat": 4
 },
 "nbformat": 4,
 "nbformat_minor": 2
}
