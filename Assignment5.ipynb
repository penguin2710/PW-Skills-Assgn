{
 "cells": [
  {
   "cell_type": "code",
   "execution_count": 10,
   "metadata": {},
   "outputs": [
    {
     "name": "stdout",
     "output_type": "stream",
     "text": [
      "2\n",
      "120\n",
      "Suzuki\n"
     ]
    }
   ],
   "source": [
    "#Ans 1\n",
    "\n",
    "class vehicle:\n",
    "    def __init__(self, name, speed, average):\n",
    "        self.name_of_vehicle = name\n",
    "        self.max_speed = speed\n",
    "        self.average_of_vehicle = average\n",
    "\n",
    "type = vehicle(\"Suzuki\", 120, 2)\n",
    "print(type.average_of_vehicle)\n",
    "print(type.max_speed)\n",
    "print(type.name_of_vehicle)"
   ]
  },
  {
   "cell_type": "code",
   "execution_count": 13,
   "metadata": {},
   "outputs": [
    {
     "data": {
      "text/plain": [
       "(5, 'Maruti')"
      ]
     },
     "execution_count": 13,
     "metadata": {},
     "output_type": "execute_result"
    }
   ],
   "source": [
    "#Ans 2\n",
    "\n",
    "class car(vehicle):\n",
    "    def seating_capacity(self, capacity):\n",
    "        self.seating_capacity = capacity\n",
    "        return self.seating_capacity, self.name_of_vehicle\n",
    "    \n",
    "obj = car(\"Maruti\", 120, 2)\n",
    "obj.seating_capacity(5)"
   ]
  },
  {
   "cell_type": "code",
   "execution_count": 18,
   "metadata": {},
   "outputs": [
    {
     "name": "stdout",
     "output_type": "stream",
     "text": [
      "The name is Shivani\n",
      "The name is Shivani and dance is Kathak.\n"
     ]
    }
   ],
   "source": [
    "#Ans 3\n",
    "\n",
    "class Employee:\n",
    "  def __init__(self, name):\n",
    "    self.name = name\n",
    "  def show(self):\n",
    "    print(f\"The name is {self.name}\")\n",
    "\n",
    "class Dancer:\n",
    "  def __init__(self, dance):\n",
    "    self.dance = dance\n",
    "  def show(self):\n",
    "    print(f\"The dance is {self.dance}\")\n",
    "\n",
    "class DancerEmployee(Employee, Dancer):    \n",
    "  def __init__(self, dance, name):     \n",
    "    self.dance = dance\n",
    "    self.name = name\n",
    "  def details(self):\n",
    "    print(f\"The name is {self.name} and dance is {self.dance}.\")\n",
    "\n",
    "o = DancerEmployee(\"Kathak\", \"Shivani\")\n",
    "o.show()   \n",
    "o.details()"
   ]
  },
  {
   "cell_type": "code",
   "execution_count": 1,
   "metadata": {},
   "outputs": [
    {
     "name": "stdout",
     "output_type": "stream",
     "text": [
      "5\n",
      "10\n",
      "Radius must be greater than zero.\n",
      "10\n"
     ]
    }
   ],
   "source": [
    "#Ans 4 \n",
    "\n",
    "'''getters and setters are methods used to access and modify the values of class attributes or properties. They provide \n",
    "a way to encapsulate the access and modification of object attributes, allowing for more controlled access and data validation.'''\n",
    "\n",
    "class Circle:\n",
    "    def __init__(self, radius):\n",
    "        self._radius = radius\n",
    "    \n",
    "    @property\n",
    "    def radius(self):\n",
    "        return self._radius\n",
    "    \n",
    "    @radius.setter\n",
    "    def radius(self, value):\n",
    "        if value > 0:\n",
    "            self._radius = value\n",
    "        else:\n",
    "            print(\"Radius must be greater than zero.\")\n",
    "\n",
    "circle = Circle(5)\n",
    "print(circle.radius) \n",
    "\n",
    "circle.radius = 10\n",
    "print(circle.radius) \n",
    "\n",
    "circle.radius = -2  \n",
    "print(circle.radius)  "
   ]
  },
  {
   "cell_type": "code",
   "execution_count": 2,
   "metadata": {},
   "outputs": [
    {
     "name": "stdout",
     "output_type": "stream",
     "text": [
      "Generic animal sound\n",
      "Woof!\n"
     ]
    }
   ],
   "source": [
    "#Ans 5\n",
    "\n",
    "# when a method of the parent class is changed in subclass, it is called method overriding\n",
    "\n",
    "class Animal:\n",
    "    def make_sound(self):\n",
    "        print(\"Generic animal sound\")\n",
    "\n",
    "class Dog(Animal):\n",
    "    def make_sound(self):\n",
    "        print(\"Woof!\")\n",
    "\n",
    "# Usage\n",
    "animal = Animal()\n",
    "animal.make_sound() \n",
    "\n",
    "dog = Dog()\n",
    "dog.make_sound() "
   ]
  }
 ],
 "metadata": {
  "kernelspec": {
   "display_name": "Python 3",
   "language": "python",
   "name": "python3"
  },
  "language_info": {
   "codemirror_mode": {
    "name": "ipython",
    "version": 3
   },
   "file_extension": ".py",
   "mimetype": "text/x-python",
   "name": "python",
   "nbconvert_exporter": "python",
   "pygments_lexer": "ipython3",
   "version": "3.11.3"
  },
  "orig_nbformat": 4
 },
 "nbformat": 4,
 "nbformat_minor": 2
}
