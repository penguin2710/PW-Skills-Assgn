{
 "cells": [
  {
   "attachments": {},
   "cell_type": "markdown",
   "metadata": {},
   "source": [
    "Ans 1\n",
    "\n",
    "Multiprocessing in Python refers to the ability to execute multiple processes concurrently, taking advantage of multiple CPU cores or processors. It allows you to parallelize your code and perform tasks simultaneously, resulting in improved performance and faster execution times."
   ]
  },
  {
   "attachments": {},
   "cell_type": "markdown",
   "metadata": {},
   "source": [
    "Ans 2\n",
    "\n",
    "1. Multiprocessing involves running multiple processes concurrently, where each process has its own memory space and runs independently. On the other hand, multithreading involves running multiple threads within a single process, sharing the same memory space.\n",
    "\n",
    "2. Multiprocessing allows for true parallelism by utilizing multiple CPU cores or processors, enabling tasks to run simultaneously. In contrast, multithreading achieves concurrency but not necessarily parallelism, as threads share the same resources and take turns executing on a single core through time slicing.\n",
    "\n",
    "3. Processes in multiprocessing have separate memory spaces, providing strong isolation. Any issues in one process, such as memory corruption, do not affect others. In multithreading, threads share the same memory space, making them susceptible to race conditions and synchronization issues."
   ]
  },
  {
   "cell_type": "code",
   "execution_count": null,
   "metadata": {},
   "outputs": [],
   "source": [
    "#Ans 3\n",
    "\n",
    "import multiprocessing\n",
    "\n",
    "def newproc():\n",
    "    print(\"This is a child process.\")\n",
    "\n",
    "if __name__ == '__main__':\n",
    "    p = multiprocessing.Process(target=newproc)\n",
    "    p.start()\n",
    "    p.join()\n",
    "    print(\"This is the parent process.\")"
   ]
  },
  {
   "cell_type": "code",
   "execution_count": null,
   "metadata": {},
   "outputs": [],
   "source": [
    "#Ans 4\n",
    "\n",
    "import multiprocessing\n",
    "\n",
    "def process(n):\n",
    "    # Perform some task using the input\n",
    "    result = n * 2\n",
    "    return result\n",
    "\n",
    "if __name__ == '__main__':\n",
    "    pool = multiprocessing.Pool(processes=4)\n",
    "    numbers = [1, 2, 3, 4, 5]\n",
    "    results = pool.map(process, numbers)\n",
    "    pool.close()\n",
    "    pool.join()\n",
    "    print(results)"
   ]
  },
  {
   "cell_type": "code",
   "execution_count": 12,
   "metadata": {},
   "outputs": [],
   "source": [
    "#Ans 5\n",
    "\n",
    "import multiprocessing\n",
    "\n",
    "def print_number(number):\n",
    "    print(f\"Number: {number}\")\n",
    "\n",
    "if __name__ == '__main__':\n",
    "    processes = []\n",
    "    for i in range(4):\n",
    "        p = multiprocessing.Process(target=print_number, args=(i,))\n",
    "        processes.append(p)\n",
    "        p.start()\n",
    "\n",
    "    for p in processes:\n",
    "        p.join()"
   ]
  }
 ],
 "metadata": {
  "kernelspec": {
   "display_name": "Python 3",
   "language": "python",
   "name": "python3"
  },
  "language_info": {
   "codemirror_mode": {
    "name": "ipython",
    "version": 3
   },
   "file_extension": ".py",
   "mimetype": "text/x-python",
   "name": "python",
   "nbconvert_exporter": "python",
   "pygments_lexer": "ipython3",
   "version": "3.11.3"
  },
  "orig_nbformat": 4
 },
 "nbformat": 4,
 "nbformat_minor": 2
}
