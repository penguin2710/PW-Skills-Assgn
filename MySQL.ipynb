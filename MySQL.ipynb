{
 "cells": [
  {
   "attachments": {},
   "cell_type": "markdown",
   "metadata": {},
   "source": [
    "Ans 1\n",
    "\n",
    "A database is a structured collection of data that is organized, managed, and accessed in a systematic way. It is designed to efficiently store, retrieve, and manipulate large amounts of information. \n",
    "\n",
    "SQL and NoSQL are two different types of database management systems (DBMS) that differ in their data models, query languages, and underlying architectures."
   ]
  },
  {
   "attachments": {},
   "cell_type": "markdown",
   "metadata": {},
   "source": [
    "Ans 2\n",
    "\n",
    "DDL stands for Data Definition Language, which is a subset of SQL (Structured Query Language) used to define and manage the structure of a database. DDL statements are used to create, modify, and delete database objects such as tables, indexes, and views. "
   ]
  },
  {
   "cell_type": "code",
   "execution_count": null,
   "metadata": {},
   "outputs": [],
   "source": [
    "#The CREATE statement is used to create new database objects, such as tables, views, indexes, or schemas\n",
    "CREATE TABLE Employees (\n",
    "  id INT PRIMARY KEY,\n",
    "  name VARCHAR(50),\n",
    "  age INT,\n",
    "  department VARCHAR(50)\n",
    ");\n",
    "\n",
    "#The DROP statement is used to remove existing database objects. \n",
    "# It permanently deletes the object and its associated data from the database.\n",
    "DROP TABLE Employees;\n",
    "\n",
    "#The ALTER statement is used to modify the structure of an existing database object. \n",
    "# It allows you to add, modify, or delete columns, constraints, and other properties. \n",
    "ALTER TABLE Employees\n",
    "ADD COLUMN salary DECIMAL(10,2);\n",
    "\n",
    "#The TRUNCATE statement is used to remove all data from a table while keeping its structure intact.\n",
    "TRUNCATE TABLE Employees;"
   ]
  },
  {
   "attachments": {},
   "cell_type": "markdown",
   "metadata": {},
   "source": [
    "Ans 3\n",
    "\n",
    "DML stands for Data Manipulation Language, which is a subset of SQL (Structured Query Language) used to retrieve, insert, update, and delete data within a database."
   ]
  },
  {
   "cell_type": "code",
   "execution_count": null,
   "metadata": {},
   "outputs": [],
   "source": [
    "#The INSERT statement is used to add new records or rows into a table. \n",
    "#It specifies the table name and the values to be inserted into the corresponding columns. \n",
    "INSERT INTO Employees (id, name, age, department)\n",
    "VALUES (1, 'John Doe', 30, 'Sales');\n",
    "\n",
    "#The UPDATE statement is used to modify existing records within a table. \n",
    "# It allows you to change the values of one or more columns based on specified conditions.\n",
    "UPDATE Employees\n",
    "SET age = 35, department = 'Marketing'\n",
    "WHERE id = 1;\n",
    "\n",
    "#The DELETE statement is used to remove specific records from a table based on specified conditions. \n",
    "# It deletes the rows that match the given criteria\n",
    "DELETE FROM Employees\n",
    "WHERE id = 1;"
   ]
  },
  {
   "cell_type": "code",
   "execution_count": null,
   "metadata": {},
   "outputs": [],
   "source": [
    "#Ans 4\n",
    "#DQL statements are primarily focused on querying and retrieving data from one or more database tables. \n",
    "\n",
    "SELECT column1, column2, ...\n",
    "FROM table_name\n",
    "WHERE condition;"
   ]
  },
  {
   "attachments": {},
   "cell_type": "markdown",
   "metadata": {},
   "source": [
    "Ans 5\n",
    "\n",
    "Primary Key:\n",
    "A primary key is a column or a combination of columns in a database table that uniquely identifies each row or record in that table. It provides a way to ensure data integrity and uniquely identify each record. The primary key enforces the uniqueness and non-nullability of the key columns. \n",
    "\n",
    "Foreign Key:\n",
    "A foreign key is a column or a combination of columns in a database table that refers to the primary key of another table. It establishes a link or relationship between two tables, representing a dependency between the data in those tables. The foreign key represents a reference to a primary key value in another table. "
   ]
  },
  {
   "cell_type": "code",
   "execution_count": null,
   "metadata": {},
   "outputs": [],
   "source": [
    "#Ans 6\n",
    "import mysql.connector\n",
    "\n",
    "# Establish the connection\n",
    "connection = mysql.connector.connect(\n",
    "    host=\"localhost\",\n",
    "    user=\"your_username\",\n",
    "    password=\"your_password\",\n",
    "    database=\"your_database\"\n",
    ")\n",
    "# Create a cursor object\n",
    "cursor = connection.cursor()\n",
    "\n",
    "# Execute a query\n",
    "query = \"SELECT * FROM your_table\"\n",
    "cursor.execute(query)\n",
    "\n",
    "'''The cursor() method returns a cursor object that allows you to execute SQL statements and manage the query results. \n",
    "The execute() method of the cursor is used to execute SQL queries. \n",
    "It takes the SQL statement as its argument and sends it to the MySQL database for execution.'''"
   ]
  },
  {
   "attachments": {},
   "cell_type": "markdown",
   "metadata": {},
   "source": [
    "Ans 7\n",
    "\n",
    "FROM: Specifies the tables or views from which the data will be retrieved.\n",
    "\n",
    "JOIN: If multiple tables are involved in the query, the JOIN clause is used to combine the rows from different tables based on specified join conditions.\n",
    "\n",
    "WHERE: Filters the rows based on specified conditions. It allows you to select only the rows that meet certain criteria.\n",
    "\n",
    "GROUP BY: Groups the rows based on one or more columns. It is often used in conjunction with aggregate functions like SUM, COUNT, AVG, etc., to perform calculations on groups of rows.\n",
    "\n",
    "HAVING: Filters the grouped rows based on specified conditions. It is similar to the WHERE clause but applies to groups created by the GROUP BY clause.\n",
    "\n",
    "SELECT: Specifies the columns to be retrieved in the result set. It can include aggregate functions, expressions, and aliases.\n",
    "\n",
    "DISTINCT: Removes duplicate rows from the result set. It ensures that each row in the result set is unique.\n",
    "\n",
    "ORDER BY: Sorts the result set based on specified columns in ascending or descending order.\n",
    "\n",
    "LIMIT/OFFSET: Limits the number of rows returned or skips a specified number of rows in the result set. It is commonly used for pagination or to fetch a subset of rows."
   ]
  }
 ],
 "metadata": {
  "kernelspec": {
   "display_name": "Python 3",
   "language": "python",
   "name": "python3"
  },
  "language_info": {
   "name": "python",
   "version": "3.11.3"
  },
  "orig_nbformat": 4
 },
 "nbformat": 4,
 "nbformat_minor": 2
}
